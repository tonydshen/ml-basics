{
  "cells": [
    {
      "cell_type": "markdown",
      "metadata": {
        "colab_type": "text",
        "id": "view-in-github"
      },
      "source": [
        "<a href=\"https://colab.research.google.com/github/034adarsh/Stock-Price-Prediction-Using-LSTM/blob/main/LSTM_model.ipynb\" target=\"_parent\"><img src=\"https://colab.research.google.com/assets/colab-badge.svg\" alt=\"Open In Colab\"/></a>"
      ]
    },
    {
      "cell_type": "markdown",
      "id": "yrU0iWdalVGx",
      "metadata": {
        "id": "yrU0iWdalVGx"
      },
      "source": [
        "# Import all the required libraries\n",
        "\n",
        "---\n",
        "\n"
      ]
    },
    {
      "cell_type": "code",
      "execution_count": 41,
      "id": "4189cf86",
      "metadata": {
        "id": "4189cf86",
        "scrolled": false
      },
      "outputs": [],
      "source": [
        "import pandas as pd\n",
        "import datetime as dt\n",
        "from datetime import date\n",
        "import matplotlib.pyplot as plt\n",
        "import yfinance as yf\n",
        "import numpy as np\n",
        "import tensorflow as tf\n",
        "# added import\n",
        "from sklearn.model_selection import train_test_split"
      ]
    },
    {
      "cell_type": "markdown",
      "id": "Nij98iZElfyQ",
      "metadata": {
        "id": "Nij98iZElfyQ"
      },
      "source": [
        "# Define start day to fetch the dataset from the yahoo finance library\n",
        "\n",
        "---\n",
        "\n"
      ]
    },
    {
      "cell_type": "code",
      "execution_count": 42,
      "id": "d20a4c49",
      "metadata": {
        "id": "d20a4c49",
        "scrolled": false
      },
      "outputs": [],
      "source": [
        "START = \"2024-01-01\"\n",
        "TODAY = date.today().strftime(\"%Y-%m-%d\")\n",
        "\n",
        "# Define a function to load the dataset\n",
        "\n",
        "def load_data(ticker):\n",
        "    data = yf.download(ticker, START, TODAY)\n",
        "    data.reset_index(inplace=True)\n",
        "    return data"
      ]
    },
    {
      "cell_type": "code",
      "execution_count": 43,
      "id": "c5f71e4e",
      "metadata": {
        "colab": {
          "base_uri": "https://localhost:8080/",
          "height": 224
        },
        "id": "c5f71e4e",
        "outputId": "627e3c55-f7ad-4646-d692-1eda960bd603"
      },
      "outputs": [
        {
          "name": "stderr",
          "output_type": "stream",
          "text": [
            "/tmp/ipykernel_2212/2246684337.py:7: FutureWarning: YF.download() has changed argument auto_adjust default to True\n",
            "  data = yf.download(ticker, START, TODAY)\n"
          ]
        },
        {
          "name": "stderr",
          "output_type": "stream",
          "text": [
            "[*********************100%***********************]  1 of 1 completed\n"
          ]
        },
        {
          "data": {
            "text/html": [
              "<div>\n",
              "<style scoped>\n",
              "    .dataframe tbody tr th:only-of-type {\n",
              "        vertical-align: middle;\n",
              "    }\n",
              "\n",
              "    .dataframe tbody tr th {\n",
              "        vertical-align: top;\n",
              "    }\n",
              "\n",
              "    .dataframe thead tr th {\n",
              "        text-align: left;\n",
              "    }\n",
              "</style>\n",
              "<table border=\"1\" class=\"dataframe\">\n",
              "  <thead>\n",
              "    <tr>\n",
              "      <th>Price</th>\n",
              "      <th>Date</th>\n",
              "      <th>Close</th>\n",
              "      <th>High</th>\n",
              "      <th>Low</th>\n",
              "      <th>Open</th>\n",
              "      <th>Volume</th>\n",
              "    </tr>\n",
              "    <tr>\n",
              "      <th>Ticker</th>\n",
              "      <th></th>\n",
              "      <th>QUBT</th>\n",
              "      <th>QUBT</th>\n",
              "      <th>QUBT</th>\n",
              "      <th>QUBT</th>\n",
              "      <th>QUBT</th>\n",
              "    </tr>\n",
              "  </thead>\n",
              "  <tbody>\n",
              "    <tr>\n",
              "      <th>0</th>\n",
              "      <td>2024-01-02</td>\n",
              "      <td>0.895</td>\n",
              "      <td>0.960</td>\n",
              "      <td>0.886</td>\n",
              "      <td>0.929</td>\n",
              "      <td>553200</td>\n",
              "    </tr>\n",
              "    <tr>\n",
              "      <th>1</th>\n",
              "      <td>2024-01-03</td>\n",
              "      <td>0.864</td>\n",
              "      <td>0.915</td>\n",
              "      <td>0.850</td>\n",
              "      <td>0.880</td>\n",
              "      <td>521800</td>\n",
              "    </tr>\n",
              "    <tr>\n",
              "      <th>2</th>\n",
              "      <td>2024-01-04</td>\n",
              "      <td>0.848</td>\n",
              "      <td>0.882</td>\n",
              "      <td>0.821</td>\n",
              "      <td>0.865</td>\n",
              "      <td>572400</td>\n",
              "    </tr>\n",
              "    <tr>\n",
              "      <th>3</th>\n",
              "      <td>2024-01-05</td>\n",
              "      <td>0.818</td>\n",
              "      <td>0.870</td>\n",
              "      <td>0.818</td>\n",
              "      <td>0.865</td>\n",
              "      <td>401300</td>\n",
              "    </tr>\n",
              "    <tr>\n",
              "      <th>4</th>\n",
              "      <td>2024-01-08</td>\n",
              "      <td>0.880</td>\n",
              "      <td>0.880</td>\n",
              "      <td>0.831</td>\n",
              "      <td>0.854</td>\n",
              "      <td>651300</td>\n",
              "    </tr>\n",
              "  </tbody>\n",
              "</table>\n",
              "</div>"
            ],
            "text/plain": [
              "Price        Date  Close   High    Low   Open  Volume\n",
              "Ticker              QUBT   QUBT   QUBT   QUBT    QUBT\n",
              "0      2024-01-02  0.895  0.960  0.886  0.929  553200\n",
              "1      2024-01-03  0.864  0.915  0.850  0.880  521800\n",
              "2      2024-01-04  0.848  0.882  0.821  0.865  572400\n",
              "3      2024-01-05  0.818  0.870  0.818  0.865  401300\n",
              "4      2024-01-08  0.880  0.880  0.831  0.854  651300"
            ]
          },
          "execution_count": 43,
          "metadata": {},
          "output_type": "execute_result"
        }
      ],
      "source": [
        "data = load_data('QUBT')\n",
        "df=data\n",
        "df.head()"
      ]
    },
    {
      "cell_type": "code",
      "execution_count": 44,
      "id": "c7ec39e4",
      "metadata": {
        "colab": {
          "base_uri": "https://localhost:8080/",
          "height": 206
        },
        "id": "c7ec39e4",
        "outputId": "72ee0443-1c7b-4f9e-ffc2-dde931591f11"
      },
      "outputs": [
        {
          "name": "stderr",
          "output_type": "stream",
          "text": [
            "/tmp/ipykernel_2212/3502562368.py:1: PerformanceWarning: dropping on a non-lexsorted multi-index without a level parameter may impact performance.\n",
            "  df = df.drop(['Date'], axis = 1)\n"
          ]
        },
        {
          "data": {
            "text/html": [
              "<div>\n",
              "<style scoped>\n",
              "    .dataframe tbody tr th:only-of-type {\n",
              "        vertical-align: middle;\n",
              "    }\n",
              "\n",
              "    .dataframe tbody tr th {\n",
              "        vertical-align: top;\n",
              "    }\n",
              "\n",
              "    .dataframe thead tr th {\n",
              "        text-align: left;\n",
              "    }\n",
              "</style>\n",
              "<table border=\"1\" class=\"dataframe\">\n",
              "  <thead>\n",
              "    <tr>\n",
              "      <th>Price</th>\n",
              "      <th>Close</th>\n",
              "      <th>High</th>\n",
              "      <th>Low</th>\n",
              "      <th>Open</th>\n",
              "      <th>Volume</th>\n",
              "    </tr>\n",
              "    <tr>\n",
              "      <th>Ticker</th>\n",
              "      <th>QUBT</th>\n",
              "      <th>QUBT</th>\n",
              "      <th>QUBT</th>\n",
              "      <th>QUBT</th>\n",
              "      <th>QUBT</th>\n",
              "    </tr>\n",
              "  </thead>\n",
              "  <tbody>\n",
              "    <tr>\n",
              "      <th>0</th>\n",
              "      <td>0.895</td>\n",
              "      <td>0.960</td>\n",
              "      <td>0.886</td>\n",
              "      <td>0.929</td>\n",
              "      <td>553200</td>\n",
              "    </tr>\n",
              "    <tr>\n",
              "      <th>1</th>\n",
              "      <td>0.864</td>\n",
              "      <td>0.915</td>\n",
              "      <td>0.850</td>\n",
              "      <td>0.880</td>\n",
              "      <td>521800</td>\n",
              "    </tr>\n",
              "    <tr>\n",
              "      <th>2</th>\n",
              "      <td>0.848</td>\n",
              "      <td>0.882</td>\n",
              "      <td>0.821</td>\n",
              "      <td>0.865</td>\n",
              "      <td>572400</td>\n",
              "    </tr>\n",
              "    <tr>\n",
              "      <th>3</th>\n",
              "      <td>0.818</td>\n",
              "      <td>0.870</td>\n",
              "      <td>0.818</td>\n",
              "      <td>0.865</td>\n",
              "      <td>401300</td>\n",
              "    </tr>\n",
              "    <tr>\n",
              "      <th>4</th>\n",
              "      <td>0.880</td>\n",
              "      <td>0.880</td>\n",
              "      <td>0.831</td>\n",
              "      <td>0.854</td>\n",
              "      <td>651300</td>\n",
              "    </tr>\n",
              "  </tbody>\n",
              "</table>\n",
              "</div>"
            ],
            "text/plain": [
              "Price   Close   High    Low   Open  Volume\n",
              "Ticker   QUBT   QUBT   QUBT   QUBT    QUBT\n",
              "0       0.895  0.960  0.886  0.929  553200\n",
              "1       0.864  0.915  0.850  0.880  521800\n",
              "2       0.848  0.882  0.821  0.865  572400\n",
              "3       0.818  0.870  0.818  0.865  401300\n",
              "4       0.880  0.880  0.831  0.854  651300"
            ]
          },
          "execution_count": 44,
          "metadata": {},
          "output_type": "execute_result"
        }
      ],
      "source": [
        "df = df.drop(['Date'], axis = 1)\n",
        "df.head()"
      ]
    },
    {
      "cell_type": "code",
      "execution_count": 67,
      "id": "6a501790",
      "metadata": {},
      "outputs": [
        {
          "data": {
            "text/html": [
              "<div>\n",
              "<style scoped>\n",
              "    .dataframe tbody tr th:only-of-type {\n",
              "        vertical-align: middle;\n",
              "    }\n",
              "\n",
              "    .dataframe tbody tr th {\n",
              "        vertical-align: top;\n",
              "    }\n",
              "\n",
              "    .dataframe thead tr th {\n",
              "        text-align: left;\n",
              "    }\n",
              "</style>\n",
              "<table border=\"1\" class=\"dataframe\">\n",
              "  <thead>\n",
              "    <tr>\n",
              "      <th>Price</th>\n",
              "      <th>Close</th>\n",
              "      <th>High</th>\n",
              "      <th>Low</th>\n",
              "      <th>Open</th>\n",
              "      <th>Volume</th>\n",
              "    </tr>\n",
              "    <tr>\n",
              "      <th>Ticker</th>\n",
              "      <th>QUBT</th>\n",
              "      <th>QUBT</th>\n",
              "      <th>QUBT</th>\n",
              "      <th>QUBT</th>\n",
              "      <th>QUBT</th>\n",
              "    </tr>\n",
              "  </thead>\n",
              "  <tbody>\n",
              "    <tr>\n",
              "      <th>count</th>\n",
              "      <td>441.000000</td>\n",
              "      <td>441.000000</td>\n",
              "      <td>441.000000</td>\n",
              "      <td>441.000000</td>\n",
              "      <td>4.410000e+02</td>\n",
              "    </tr>\n",
              "    <tr>\n",
              "      <th>mean</th>\n",
              "      <td>6.501438</td>\n",
              "      <td>6.879946</td>\n",
              "      <td>6.101737</td>\n",
              "      <td>6.459601</td>\n",
              "      <td>1.670177e+07</td>\n",
              "    </tr>\n",
              "    <tr>\n",
              "      <th>std</th>\n",
              "      <td>6.794999</td>\n",
              "      <td>7.176931</td>\n",
              "      <td>6.367208</td>\n",
              "      <td>6.738371</td>\n",
              "      <td>2.917515e+07</td>\n",
              "    </tr>\n",
              "    <tr>\n",
              "      <th>min</th>\n",
              "      <td>0.421000</td>\n",
              "      <td>0.468000</td>\n",
              "      <td>0.355000</td>\n",
              "      <td>0.416000</td>\n",
              "      <td>1.611000e+05</td>\n",
              "    </tr>\n",
              "    <tr>\n",
              "      <th>25%</th>\n",
              "      <td>0.752000</td>\n",
              "      <td>0.770000</td>\n",
              "      <td>0.720000</td>\n",
              "      <td>0.750000</td>\n",
              "      <td>8.007000e+05</td>\n",
              "    </tr>\n",
              "    <tr>\n",
              "      <th>50%</th>\n",
              "      <td>2.540000</td>\n",
              "      <td>3.000000</td>\n",
              "      <td>2.220000</td>\n",
              "      <td>2.520000</td>\n",
              "      <td>5.861800e+06</td>\n",
              "    </tr>\n",
              "    <tr>\n",
              "      <th>75%</th>\n",
              "      <td>11.490000</td>\n",
              "      <td>12.420000</td>\n",
              "      <td>10.550000</td>\n",
              "      <td>11.330000</td>\n",
              "      <td>1.961770e+07</td>\n",
              "    </tr>\n",
              "    <tr>\n",
              "      <th>max</th>\n",
              "      <td>25.680000</td>\n",
              "      <td>27.150000</td>\n",
              "      <td>20.910000</td>\n",
              "      <td>22.000000</td>\n",
              "      <td>2.326194e+08</td>\n",
              "    </tr>\n",
              "  </tbody>\n",
              "</table>\n",
              "</div>"
            ],
            "text/plain": [
              "Price        Close        High         Low        Open        Volume\n",
              "Ticker        QUBT        QUBT        QUBT        QUBT          QUBT\n",
              "count   441.000000  441.000000  441.000000  441.000000  4.410000e+02\n",
              "mean      6.501438    6.879946    6.101737    6.459601  1.670177e+07\n",
              "std       6.794999    7.176931    6.367208    6.738371  2.917515e+07\n",
              "min       0.421000    0.468000    0.355000    0.416000  1.611000e+05\n",
              "25%       0.752000    0.770000    0.720000    0.750000  8.007000e+05\n",
              "50%       2.540000    3.000000    2.220000    2.520000  5.861800e+06\n",
              "75%      11.490000   12.420000   10.550000   11.330000  1.961770e+07\n",
              "max      25.680000   27.150000   20.910000   22.000000  2.326194e+08"
            ]
          },
          "execution_count": 67,
          "metadata": {},
          "output_type": "execute_result"
        }
      ],
      "source": [
        "# explore the data\n",
        "df.describe()"
      ]
    },
    {
      "cell_type": "code",
      "execution_count": 45,
      "id": "0707b26a",
      "metadata": {
        "colab": {
          "base_uri": "https://localhost:8080/",
          "height": 470
        },
        "id": "0707b26a",
        "outputId": "eaf32986-f474-41b6-effa-508e27b5bb5c",
        "scrolled": true
      },
      "outputs": [
        {
          "data": {
            "text/plain": [
              "[<matplotlib.lines.Line2D at 0x7f62d9a1d610>]"
            ]
          },
          "execution_count": 45,
          "metadata": {},
          "output_type": "execute_result"
        },
        {
          "data": {
            "image/png": "[encoded data removed]",
            "text/plain": [
              "<Figure size 640x480 with 1 Axes>"
            ]
          },
          "metadata": {},
          "output_type": "display_data"
        }
      ],
      "source": [
        "plt.title(\"Close Price Visualization\")\n",
        "plt.plot(df.Close)"
      ]
    },
    {
      "cell_type": "code",
      "execution_count": 46,
      "id": "73888072",
      "metadata": {
        "colab": {
          "base_uri": "https://localhost:8080/",
          "height": 424
        },
        "id": "73888072",
        "outputId": "00dc415f-edf2-48f4-92b0-ee71f4042112"
      },
      "outputs": [
        {
          "data": {
            "text/html": [
              "<div>\n",
              "<style scoped>\n",
              "    .dataframe tbody tr th:only-of-type {\n",
              "        vertical-align: middle;\n",
              "    }\n",
              "\n",
              "    .dataframe tbody tr th {\n",
              "        vertical-align: top;\n",
              "    }\n",
              "\n",
              "    .dataframe thead tr th {\n",
              "        text-align: left;\n",
              "    }\n",
              "</style>\n",
              "<table border=\"1\" class=\"dataframe\">\n",
              "  <thead>\n",
              "    <tr>\n",
              "      <th>Price</th>\n",
              "      <th>Close</th>\n",
              "      <th>High</th>\n",
              "      <th>Low</th>\n",
              "      <th>Open</th>\n",
              "      <th>Volume</th>\n",
              "    </tr>\n",
              "    <tr>\n",
              "      <th>Ticker</th>\n",
              "      <th>QUBT</th>\n",
              "      <th>QUBT</th>\n",
              "      <th>QUBT</th>\n",
              "      <th>QUBT</th>\n",
              "      <th>QUBT</th>\n",
              "    </tr>\n",
              "  </thead>\n",
              "  <tbody>\n",
              "    <tr>\n",
              "      <th>0</th>\n",
              "      <td>0.895000</td>\n",
              "      <td>0.960000</td>\n",
              "      <td>0.886000</td>\n",
              "      <td>0.929000</td>\n",
              "      <td>553200</td>\n",
              "    </tr>\n",
              "    <tr>\n",
              "      <th>1</th>\n",
              "      <td>0.864000</td>\n",
              "      <td>0.915000</td>\n",
              "      <td>0.850000</td>\n",
              "      <td>0.880000</td>\n",
              "      <td>521800</td>\n",
              "    </tr>\n",
              "    <tr>\n",
              "      <th>2</th>\n",
              "      <td>0.848000</td>\n",
              "      <td>0.882000</td>\n",
              "      <td>0.821000</td>\n",
              "      <td>0.865000</td>\n",
              "      <td>572400</td>\n",
              "    </tr>\n",
              "    <tr>\n",
              "      <th>3</th>\n",
              "      <td>0.818000</td>\n",
              "      <td>0.870000</td>\n",
              "      <td>0.818000</td>\n",
              "      <td>0.865000</td>\n",
              "      <td>401300</td>\n",
              "    </tr>\n",
              "    <tr>\n",
              "      <th>4</th>\n",
              "      <td>0.880000</td>\n",
              "      <td>0.880000</td>\n",
              "      <td>0.831000</td>\n",
              "      <td>0.854000</td>\n",
              "      <td>651300</td>\n",
              "    </tr>\n",
              "    <tr>\n",
              "      <th>...</th>\n",
              "      <td>...</td>\n",
              "      <td>...</td>\n",
              "      <td>...</td>\n",
              "      <td>...</td>\n",
              "      <td>...</td>\n",
              "    </tr>\n",
              "    <tr>\n",
              "      <th>436</th>\n",
              "      <td>18.850000</td>\n",
              "      <td>21.299999</td>\n",
              "      <td>18.674999</td>\n",
              "      <td>20.700001</td>\n",
              "      <td>32791800</td>\n",
              "    </tr>\n",
              "    <tr>\n",
              "      <th>437</th>\n",
              "      <td>18.410000</td>\n",
              "      <td>19.290001</td>\n",
              "      <td>18.209999</td>\n",
              "      <td>18.850000</td>\n",
              "      <td>20906600</td>\n",
              "    </tr>\n",
              "    <tr>\n",
              "      <th>438</th>\n",
              "      <td>18.969999</td>\n",
              "      <td>19.680000</td>\n",
              "      <td>18.000000</td>\n",
              "      <td>18.340000</td>\n",
              "      <td>20377000</td>\n",
              "    </tr>\n",
              "    <tr>\n",
              "      <th>439</th>\n",
              "      <td>19.980000</td>\n",
              "      <td>20.459999</td>\n",
              "      <td>19.209999</td>\n",
              "      <td>19.309999</td>\n",
              "      <td>46510600</td>\n",
              "    </tr>\n",
              "    <tr>\n",
              "      <th>440</th>\n",
              "      <td>24.620001</td>\n",
              "      <td>25.840000</td>\n",
              "      <td>20.910000</td>\n",
              "      <td>21.750000</td>\n",
              "      <td>118247600</td>\n",
              "    </tr>\n",
              "  </tbody>\n",
              "</table>\n",
              "<p>441 rows × 5 columns</p>\n",
              "</div>"
            ],
            "text/plain": [
              "Price       Close       High        Low       Open     Volume\n",
              "Ticker       QUBT       QUBT       QUBT       QUBT       QUBT\n",
              "0        0.895000   0.960000   0.886000   0.929000     553200\n",
              "1        0.864000   0.915000   0.850000   0.880000     521800\n",
              "2        0.848000   0.882000   0.821000   0.865000     572400\n",
              "3        0.818000   0.870000   0.818000   0.865000     401300\n",
              "4        0.880000   0.880000   0.831000   0.854000     651300\n",
              "..            ...        ...        ...        ...        ...\n",
              "436     18.850000  21.299999  18.674999  20.700001   32791800\n",
              "437     18.410000  19.290001  18.209999  18.850000   20906600\n",
              "438     18.969999  19.680000  18.000000  18.340000   20377000\n",
              "439     19.980000  20.459999  19.209999  19.309999   46510600\n",
              "440     24.620001  25.840000  20.910000  21.750000  118247600\n",
              "\n",
              "[441 rows x 5 columns]"
            ]
          },
          "execution_count": 46,
          "metadata": {},
          "output_type": "execute_result"
        }
      ],
      "source": [
        "df"
      ]
    },
    {
      "cell_type": "markdown",
      "id": "UMkTEOfBlzte",
      "metadata": {
        "id": "UMkTEOfBlzte"
      },
      "source": [
        "# Plotting moving averages of 100 day\n",
        "\n",
        "---\n",
        "\n"
      ]
    },
    {
      "cell_type": "code",
      "execution_count": 47,
      "id": "114d2e0c",
      "metadata": {
        "colab": {
          "base_uri": "https://localhost:8080/"
        },
        "id": "114d2e0c",
        "outputId": "734fff73-936a-4bab-a8ad-351c8bd2ca8e"
      },
      "outputs": [
        {
          "data": {
            "text/html": [
              "<div>\n",
              "<style scoped>\n",
              "    .dataframe tbody tr th:only-of-type {\n",
              "        vertical-align: middle;\n",
              "    }\n",
              "\n",
              "    .dataframe tbody tr th {\n",
              "        vertical-align: top;\n",
              "    }\n",
              "\n",
              "    .dataframe thead th {\n",
              "        text-align: right;\n",
              "    }\n",
              "</style>\n",
              "<table border=\"1\" class=\"dataframe\">\n",
              "  <thead>\n",
              "    <tr style=\"text-align: right;\">\n",
              "      <th>Ticker</th>\n",
              "      <th>QUBT</th>\n",
              "    </tr>\n",
              "  </thead>\n",
              "  <tbody>\n",
              "    <tr>\n",
              "      <th>0</th>\n",
              "      <td>NaN</td>\n",
              "    </tr>\n",
              "    <tr>\n",
              "      <th>1</th>\n",
              "      <td>NaN</td>\n",
              "    </tr>\n",
              "    <tr>\n",
              "      <th>2</th>\n",
              "      <td>NaN</td>\n",
              "    </tr>\n",
              "    <tr>\n",
              "      <th>3</th>\n",
              "      <td>NaN</td>\n",
              "    </tr>\n",
              "    <tr>\n",
              "      <th>4</th>\n",
              "      <td>NaN</td>\n",
              "    </tr>\n",
              "    <tr>\n",
              "      <th>...</th>\n",
              "      <td>...</td>\n",
              "    </tr>\n",
              "    <tr>\n",
              "      <th>436</th>\n",
              "      <td>15.90595</td>\n",
              "    </tr>\n",
              "    <tr>\n",
              "      <th>437</th>\n",
              "      <td>16.01925</td>\n",
              "    </tr>\n",
              "    <tr>\n",
              "      <th>438</th>\n",
              "      <td>16.12455</td>\n",
              "    </tr>\n",
              "    <tr>\n",
              "      <th>439</th>\n",
              "      <td>16.23845</td>\n",
              "    </tr>\n",
              "    <tr>\n",
              "      <th>440</th>\n",
              "      <td>16.39365</td>\n",
              "    </tr>\n",
              "  </tbody>\n",
              "</table>\n",
              "<p>441 rows × 1 columns</p>\n",
              "</div>"
            ],
            "text/plain": [
              "Ticker      QUBT\n",
              "0            NaN\n",
              "1            NaN\n",
              "2            NaN\n",
              "3            NaN\n",
              "4            NaN\n",
              "..           ...\n",
              "436     15.90595\n",
              "437     16.01925\n",
              "438     16.12455\n",
              "439     16.23845\n",
              "440     16.39365\n",
              "\n",
              "[441 rows x 1 columns]"
            ]
          },
          "execution_count": 47,
          "metadata": {},
          "output_type": "execute_result"
        }
      ],
      "source": [
        "ma100 = df.Close.rolling(100).mean()\n",
        "ma100"
      ]
    },
    {
      "cell_type": "code",
      "execution_count": 48,
      "id": "e2f6b740",
      "metadata": {
        "colab": {
          "base_uri": "https://localhost:8080/",
          "height": 563
        },
        "id": "e2f6b740",
        "outputId": "b108baa8-775f-4709-f7d3-8c8eabbc0028"
      },
      "outputs": [
        {
          "data": {
            "text/plain": [
              "Text(0.5, 1.0, 'Graph Of Moving Averages Of 100 Days')"
            ]
          },
          "execution_count": 48,
          "metadata": {},
          "output_type": "execute_result"
        },
        {
          "data": {
            "image/png": "[encoded data removed]",
            "text/plain": [
              "<Figure size 1200x600 with 1 Axes>"
            ]
          },
          "metadata": {},
          "output_type": "display_data"
        }
      ],
      "source": [
        "plt.figure(figsize = (12,6))\n",
        "plt.plot(df.Close)\n",
        "plt.plot(ma100, 'r')\n",
        "plt.title('Graph Of Moving Averages Of 100 Days')"
      ]
    },
    {
      "cell_type": "markdown",
      "id": "LQKvGsXwmN65",
      "metadata": {
        "id": "LQKvGsXwmN65"
      },
      "source": [
        "# Defining 200 days moving averages and plotting comparision graph with 100 days moving averages\n",
        "\n",
        "---\n",
        "\n"
      ]
    },
    {
      "cell_type": "code",
      "execution_count": 49,
      "id": "46c89811",
      "metadata": {
        "colab": {
          "base_uri": "https://localhost:8080/"
        },
        "id": "46c89811",
        "outputId": "6520dee7-6658-4a24-8f8f-7144aed4df59"
      },
      "outputs": [
        {
          "data": {
            "text/html": [
              "<div>\n",
              "<style scoped>\n",
              "    .dataframe tbody tr th:only-of-type {\n",
              "        vertical-align: middle;\n",
              "    }\n",
              "\n",
              "    .dataframe tbody tr th {\n",
              "        vertical-align: top;\n",
              "    }\n",
              "\n",
              "    .dataframe thead th {\n",
              "        text-align: right;\n",
              "    }\n",
              "</style>\n",
              "<table border=\"1\" class=\"dataframe\">\n",
              "  <thead>\n",
              "    <tr style=\"text-align: right;\">\n",
              "      <th>Ticker</th>\n",
              "      <th>QUBT</th>\n",
              "    </tr>\n",
              "  </thead>\n",
              "  <tbody>\n",
              "    <tr>\n",
              "      <th>0</th>\n",
              "      <td>NaN</td>\n",
              "    </tr>\n",
              "    <tr>\n",
              "      <th>1</th>\n",
              "      <td>NaN</td>\n",
              "    </tr>\n",
              "    <tr>\n",
              "      <th>2</th>\n",
              "      <td>NaN</td>\n",
              "    </tr>\n",
              "    <tr>\n",
              "      <th>3</th>\n",
              "      <td>NaN</td>\n",
              "    </tr>\n",
              "    <tr>\n",
              "      <th>4</th>\n",
              "      <td>NaN</td>\n",
              "    </tr>\n",
              "    <tr>\n",
              "      <th>...</th>\n",
              "      <td>...</td>\n",
              "    </tr>\n",
              "    <tr>\n",
              "      <th>436</th>\n",
              "      <td>12.560050</td>\n",
              "    </tr>\n",
              "    <tr>\n",
              "      <th>437</th>\n",
              "      <td>12.614000</td>\n",
              "    </tr>\n",
              "    <tr>\n",
              "      <th>438</th>\n",
              "      <td>12.676850</td>\n",
              "    </tr>\n",
              "    <tr>\n",
              "      <th>439</th>\n",
              "      <td>12.744950</td>\n",
              "    </tr>\n",
              "    <tr>\n",
              "      <th>440</th>\n",
              "      <td>12.834525</td>\n",
              "    </tr>\n",
              "  </tbody>\n",
              "</table>\n",
              "<p>441 rows × 1 columns</p>\n",
              "</div>"
            ],
            "text/plain": [
              "Ticker       QUBT\n",
              "0             NaN\n",
              "1             NaN\n",
              "2             NaN\n",
              "3             NaN\n",
              "4             NaN\n",
              "..            ...\n",
              "436     12.560050\n",
              "437     12.614000\n",
              "438     12.676850\n",
              "439     12.744950\n",
              "440     12.834525\n",
              "\n",
              "[441 rows x 1 columns]"
            ]
          },
          "execution_count": 49,
          "metadata": {},
          "output_type": "execute_result"
        }
      ],
      "source": [
        "ma200 = df.Close.rolling(200).mean()\n",
        "ma200"
      ]
    },
    {
      "cell_type": "code",
      "execution_count": 50,
      "id": "d7c0ce2e",
      "metadata": {
        "colab": {
          "base_uri": "https://localhost:8080/",
          "height": 563
        },
        "id": "d7c0ce2e",
        "outputId": "78eea70a-f8e6-4e59-a1de-838e5f283551"
      },
      "outputs": [
        {
          "data": {
            "text/plain": [
              "Text(0.5, 1.0, 'Comparision Of 100 Days And 200 Days Moving Averages')"
            ]
          },
          "execution_count": 50,
          "metadata": {},
          "output_type": "execute_result"
        },
        {
          "data": {
            "image/png": "[encoded data removed]",
            "text/plain": [
              "<Figure size 1200x600 with 1 Axes>"
            ]
          },
          "metadata": {},
          "output_type": "display_data"
        }
      ],
      "source": [
        "plt.figure(figsize = (12,6))\n",
        "plt.plot(df.Close)\n",
        "plt.plot(ma100, 'r')\n",
        "plt.plot(ma200, 'g')\n",
        "plt.title('Comparision Of 100 Days And 200 Days Moving Averages')"
      ]
    },
    {
      "cell_type": "code",
      "execution_count": 51,
      "id": "45a099a7",
      "metadata": {
        "colab": {
          "base_uri": "https://localhost:8080/"
        },
        "id": "45a099a7",
        "outputId": "6ee85271-92fd-4b96-9176-15e36e707b99"
      },
      "outputs": [
        {
          "data": {
            "text/plain": [
              "(441, 5)"
            ]
          },
          "execution_count": 51,
          "metadata": {},
          "output_type": "execute_result"
        }
      ],
      "source": [
        "df.shape"
      ]
    },
    {
      "cell_type": "markdown",
      "id": "bCw5fsrlmfpm",
      "metadata": {
        "id": "bCw5fsrlmfpm"
      },
      "source": [
        "# Spliting the dataset into training (70%) and testing (30%) set"
      ]
    },
    {
      "cell_type": "code",
      "execution_count": 52,
      "id": "9610c5fc",
      "metadata": {
        "colab": {
          "base_uri": "https://localhost:8080/"
        },
        "id": "9610c5fc",
        "outputId": "23512f81-bb65-4fab-c31c-dca219041ec5"
      },
      "outputs": [
        {
          "name": "stdout",
          "output_type": "stream",
          "text": [
            "Train shape:  (308, 6)\n",
            "Test shape:  (133, 6)\n"
          ]
        }
      ],
      "source": [
        "# Splitting data into training and testing\n",
        "# take the first 70% of the data as training data and the rest 30% as testing data\n",
        "train = pd.DataFrame(data[0:int(len(data)*0.70)])\n",
        "test = pd.DataFrame(data[int(len(data)*0.70): int(len(data))]) # take the rest 30% as testing data\n",
        "\n",
        "print(\"Train shape: \", train.shape)\n",
        "print(\"Test shape: \", test.shape)\n"
      ]
    },
    {
      "cell_type": "code",
      "execution_count": 53,
      "id": "3d0f5064",
      "metadata": {},
      "outputs": [
        {
          "data": {
            "text/html": [
              "<div>\n",
              "<style scoped>\n",
              "    .dataframe tbody tr th:only-of-type {\n",
              "        vertical-align: middle;\n",
              "    }\n",
              "\n",
              "    .dataframe tbody tr th {\n",
              "        vertical-align: top;\n",
              "    }\n",
              "\n",
              "    .dataframe thead tr th {\n",
              "        text-align: left;\n",
              "    }\n",
              "</style>\n",
              "<table border=\"1\" class=\"dataframe\">\n",
              "  <thead>\n",
              "    <tr>\n",
              "      <th>Price</th>\n",
              "      <th>Date</th>\n",
              "      <th>Close</th>\n",
              "      <th>High</th>\n",
              "      <th>Low</th>\n",
              "      <th>Open</th>\n",
              "      <th>Volume</th>\n",
              "    </tr>\n",
              "    <tr>\n",
              "      <th>Ticker</th>\n",
              "      <th></th>\n",
              "      <th>QUBT</th>\n",
              "      <th>QUBT</th>\n",
              "      <th>QUBT</th>\n",
              "      <th>QUBT</th>\n",
              "      <th>QUBT</th>\n",
              "    </tr>\n",
              "  </thead>\n",
              "  <tbody>\n",
              "    <tr>\n",
              "      <th>0</th>\n",
              "      <td>2024-01-02</td>\n",
              "      <td>0.895</td>\n",
              "      <td>0.960</td>\n",
              "      <td>0.886</td>\n",
              "      <td>0.929</td>\n",
              "      <td>553200</td>\n",
              "    </tr>\n",
              "    <tr>\n",
              "      <th>1</th>\n",
              "      <td>2024-01-03</td>\n",
              "      <td>0.864</td>\n",
              "      <td>0.915</td>\n",
              "      <td>0.850</td>\n",
              "      <td>0.880</td>\n",
              "      <td>521800</td>\n",
              "    </tr>\n",
              "    <tr>\n",
              "      <th>2</th>\n",
              "      <td>2024-01-04</td>\n",
              "      <td>0.848</td>\n",
              "      <td>0.882</td>\n",
              "      <td>0.821</td>\n",
              "      <td>0.865</td>\n",
              "      <td>572400</td>\n",
              "    </tr>\n",
              "    <tr>\n",
              "      <th>3</th>\n",
              "      <td>2024-01-05</td>\n",
              "      <td>0.818</td>\n",
              "      <td>0.870</td>\n",
              "      <td>0.818</td>\n",
              "      <td>0.865</td>\n",
              "      <td>401300</td>\n",
              "    </tr>\n",
              "    <tr>\n",
              "      <th>4</th>\n",
              "      <td>2024-01-08</td>\n",
              "      <td>0.880</td>\n",
              "      <td>0.880</td>\n",
              "      <td>0.831</td>\n",
              "      <td>0.854</td>\n",
              "      <td>651300</td>\n",
              "    </tr>\n",
              "  </tbody>\n",
              "</table>\n",
              "</div>"
            ],
            "text/plain": [
              "Price        Date  Close   High    Low   Open  Volume\n",
              "Ticker              QUBT   QUBT   QUBT   QUBT    QUBT\n",
              "0      2024-01-02  0.895  0.960  0.886  0.929  553200\n",
              "1      2024-01-03  0.864  0.915  0.850  0.880  521800\n",
              "2      2024-01-04  0.848  0.882  0.821  0.865  572400\n",
              "3      2024-01-05  0.818  0.870  0.818  0.865  401300\n",
              "4      2024-01-08  0.880  0.880  0.831  0.854  651300"
            ]
          },
          "execution_count": 53,
          "metadata": {},
          "output_type": "execute_result"
        }
      ],
      "source": [
        "train.head()"
      ]
    },
    {
      "cell_type": "code",
      "execution_count": 54,
      "id": "91f5ef8b",
      "metadata": {
        "colab": {
          "base_uri": "https://localhost:8080/",
          "height": 206
        },
        "id": "91f5ef8b",
        "outputId": "a3241f79-660f-48b0-9ffa-e67d05710615"
      },
      "outputs": [
        {
          "data": {
            "text/html": [
              "<div>\n",
              "<style scoped>\n",
              "    .dataframe tbody tr th:only-of-type {\n",
              "        vertical-align: middle;\n",
              "    }\n",
              "\n",
              "    .dataframe tbody tr th {\n",
              "        vertical-align: top;\n",
              "    }\n",
              "\n",
              "    .dataframe thead tr th {\n",
              "        text-align: left;\n",
              "    }\n",
              "</style>\n",
              "<table border=\"1\" class=\"dataframe\">\n",
              "  <thead>\n",
              "    <tr>\n",
              "      <th>Price</th>\n",
              "      <th>Date</th>\n",
              "      <th>Close</th>\n",
              "      <th>High</th>\n",
              "      <th>Low</th>\n",
              "      <th>Open</th>\n",
              "      <th>Volume</th>\n",
              "    </tr>\n",
              "    <tr>\n",
              "      <th>Ticker</th>\n",
              "      <th></th>\n",
              "      <th>QUBT</th>\n",
              "      <th>QUBT</th>\n",
              "      <th>QUBT</th>\n",
              "      <th>QUBT</th>\n",
              "      <th>QUBT</th>\n",
              "    </tr>\n",
              "  </thead>\n",
              "  <tbody>\n",
              "    <tr>\n",
              "      <th>308</th>\n",
              "      <td>2025-03-26</td>\n",
              "      <td>8.01</td>\n",
              "      <td>8.880</td>\n",
              "      <td>7.800</td>\n",
              "      <td>8.560</td>\n",
              "      <td>15657200</td>\n",
              "    </tr>\n",
              "    <tr>\n",
              "      <th>309</th>\n",
              "      <td>2025-03-27</td>\n",
              "      <td>7.94</td>\n",
              "      <td>7.998</td>\n",
              "      <td>7.580</td>\n",
              "      <td>7.870</td>\n",
              "      <td>10672400</td>\n",
              "    </tr>\n",
              "    <tr>\n",
              "      <th>310</th>\n",
              "      <td>2025-03-28</td>\n",
              "      <td>8.45</td>\n",
              "      <td>8.540</td>\n",
              "      <td>7.305</td>\n",
              "      <td>7.725</td>\n",
              "      <td>19074500</td>\n",
              "    </tr>\n",
              "    <tr>\n",
              "      <th>311</th>\n",
              "      <td>2025-03-31</td>\n",
              "      <td>8.00</td>\n",
              "      <td>8.970</td>\n",
              "      <td>7.650</td>\n",
              "      <td>8.020</td>\n",
              "      <td>24269500</td>\n",
              "    </tr>\n",
              "    <tr>\n",
              "      <th>312</th>\n",
              "      <td>2025-04-01</td>\n",
              "      <td>7.76</td>\n",
              "      <td>8.400</td>\n",
              "      <td>7.350</td>\n",
              "      <td>8.200</td>\n",
              "      <td>18944700</td>\n",
              "    </tr>\n",
              "  </tbody>\n",
              "</table>\n",
              "</div>"
            ],
            "text/plain": [
              "Price        Date Close   High    Low   Open    Volume\n",
              "Ticker             QUBT   QUBT   QUBT   QUBT      QUBT\n",
              "308    2025-03-26  8.01  8.880  7.800  8.560  15657200\n",
              "309    2025-03-27  7.94  7.998  7.580  7.870  10672400\n",
              "310    2025-03-28  8.45  8.540  7.305  7.725  19074500\n",
              "311    2025-03-31  8.00  8.970  7.650  8.020  24269500\n",
              "312    2025-04-01  7.76  8.400  7.350  8.200  18944700"
            ]
          },
          "execution_count": 54,
          "metadata": {},
          "output_type": "execute_result"
        }
      ],
      "source": [
        "test.head()"
      ]
    },
    {
      "cell_type": "markdown",
      "id": "-a818gdwm_WV",
      "metadata": {
        "id": "-a818gdwm_WV"
      },
      "source": [
        "# Using MinMax scaler for normalization of the dataset\n",
        "\n",
        "---\n",
        "\n"
      ]
    },
    {
      "cell_type": "code",
      "execution_count": 55,
      "id": "01f04df7",
      "metadata": {
        "id": "01f04df7"
      },
      "outputs": [],
      "source": [
        "from sklearn.preprocessing import MinMaxScaler\n",
        "scaler = MinMaxScaler(feature_range=(0,1))"
      ]
    },
    {
      "cell_type": "code",
      "execution_count": 56,
      "id": "53oSB51dB6Tw",
      "metadata": {
        "id": "53oSB51dB6Tw"
      },
      "outputs": [
        {
          "data": {
            "text/plain": [
              "array([0.92900002])"
            ]
          },
          "execution_count": 56,
          "metadata": {},
          "output_type": "execute_result"
        }
      ],
      "source": [
        "train_close = train.iloc[:, 4:5].values\n",
        "test_close = test.iloc[:, 4:5].values\n",
        "train_close[0]\n"
      ]
    },
    {
      "cell_type": "code",
      "execution_count": 57,
      "id": "d97e7ff8",
      "metadata": {
        "colab": {
          "base_uri": "https://localhost:8080/"
        },
        "id": "d97e7ff8",
        "outputId": "8bf8560a-d7ec-4797-a55a-a8c7bb7720d9"
      },
      "outputs": [
        {
          "data": {
            "text/plain": [
              "array([[0.02376761],\n",
              "       [0.0214974 ],\n",
              "       [0.02080245],\n",
              "       [0.02080245],\n",
              "       [0.02029281],\n",
              "       [0.02196071],\n",
              "       [0.02112676],\n",
              "       [0.02010749],\n",
              "       [0.01760563],\n",
              "       [0.01871757],\n",
              "       [0.01640104],\n",
              "       [0.01918087],\n",
              "       [0.02001482],\n",
              "       [0.02010749],\n",
              "       [0.02367494],\n",
              "       [0.02418458],\n",
              "       [0.02376761],\n",
              "       [0.02242402],\n",
              "       [0.02196071],\n",
              "       [0.02288732],\n",
              "       [0.02015382],\n",
              "       [0.01871757],\n",
              "       [0.01686434],\n",
              "       [0.01779096],\n",
              "       [0.01593773],\n",
              "       [0.01459414],\n",
              "       [0.01501112],\n",
              "       [0.01417717],\n",
              "       [0.01575241],\n",
              "       [0.01969051],\n",
              "       [0.01765196],\n",
              "       [0.0214974 ],\n",
              "       [0.02057079],\n",
              "       [0.02474055],\n",
              "       [0.02015382],\n",
              "       [0.01779096],\n",
              "       [0.01825426],\n",
              "       [0.01978317],\n",
              "       [0.02168273],\n",
              "       [0.01964418],\n",
              "       [0.02052446],\n",
              "       [0.02080245],\n",
              "       [0.0214974 ],\n",
              "       [0.01848591],\n",
              "       [0.01918087],\n",
              "       [0.01964418],\n",
              "       [0.02214603],\n",
              "       [0.02191438],\n",
              "       [0.02566716],\n",
              "       [0.03678651],\n",
              "       [0.03539659],\n",
              "       [0.03308006],\n",
              "       [0.03354336],\n",
              "       [0.03724982],\n",
              "       [0.03493328],\n",
              "       [0.04002965],\n",
              "       [0.03261675],\n",
              "       [0.03169014],\n",
              "       [0.03493328],\n",
              "       [0.03122684],\n",
              "       [0.02798369],\n",
              "       [0.028447  ],\n",
              "       [0.02650111],\n",
              "       [0.02752038],\n",
              "       [0.02613047],\n",
              "       [0.0261768 ],\n",
              "       [0.02520385],\n",
              "       [0.02251668],\n",
              "       [0.02242402],\n",
              "       [0.02196071],\n",
              "       [0.02168273],\n",
              "       [0.01899555],\n",
              "       [0.01515011],\n",
              "       [0.01825426],\n",
              "       [0.01686434],\n",
              "       [0.01547443],\n",
              "       [0.01459414],\n",
              "       [0.0136212 ],\n",
              "       [0.01774463],\n",
              "       [0.01547443],\n",
              "       [0.01593773],\n",
              "       [0.01640104],\n",
              "       [0.01802261],\n",
              "       [0.01607672],\n",
              "       [0.01686434],\n",
              "       [0.01732765],\n",
              "       [0.01663269],\n",
              "       [0.01769829],\n",
              "       [0.01547443],\n",
              "       [0.01593773],\n",
              "       [0.01732765],\n",
              "       [0.01760563],\n",
              "       [0.01501112],\n",
              "       [0.01737398],\n",
              "       [0.01779096],\n",
              "       [0.0204318 ],\n",
              "       [0.01871757],\n",
              "       [0.01593773],\n",
              "       [0.01459414],\n",
              "       [0.01501112],\n",
              "       [0.01315789],\n",
              "       [0.0136212 ],\n",
              "       [0.01408451],\n",
              "       [0.01338955],\n",
              "       [0.01431616],\n",
              "       [0.01450148],\n",
              "       [0.01320422],\n",
              "       [0.01292624],\n",
              "       [0.01338955],\n",
              "       [0.01223128],\n",
              "       [0.01130467],\n",
              "       [0.00945145],\n",
              "       [0.01223128],\n",
              "       [0.01130467],\n",
              "       [0.01130467],\n",
              "       [0.01037806],\n",
              "       [0.00945145],\n",
              "       [0.00949778],\n",
              "       [0.00991475],\n",
              "       [0.00912713],\n",
              "       [0.00894181],\n",
              "       [0.0102854 ],\n",
              "       [0.01000741],\n",
              "       [0.00898814],\n",
              "       [0.00449407],\n",
              "       [0.        ],\n",
              "       [0.00157524],\n",
              "       [0.00495738],\n",
              "       [0.00945145],\n",
              "       [0.00806153],\n",
              "       [0.00713491],\n",
              "       [0.0080152 ],\n",
              "       [0.00991475],\n",
              "       [0.01084136],\n",
              "       [0.01408451],\n",
              "       [0.01357487],\n",
              "       [0.01241661],\n",
              "       [0.01037806],\n",
              "       [0.01176798],\n",
              "       [0.01158265],\n",
              "       [0.01269459],\n",
              "       [0.01176798],\n",
              "       [0.01223128],\n",
              "       [0.01408451],\n",
              "       [0.0136212 ],\n",
              "       [0.01130467],\n",
              "       [0.01274092],\n",
              "       [0.01037806],\n",
              "       [0.00667161],\n",
              "       [0.01130467],\n",
              "       [0.01111935],\n",
              "       [0.0107487 ],\n",
              "       [0.00921979],\n",
              "       [0.00829318],\n",
              "       [0.00852483],\n",
              "       [0.00921979],\n",
              "       [0.00810786],\n",
              "       [0.00852483],\n",
              "       [0.00991475],\n",
              "       [0.00921979],\n",
              "       [0.00852483],\n",
              "       [0.01269459],\n",
              "       [0.01223128],\n",
              "       [0.01269459],\n",
              "       [0.01325056],\n",
              "       [0.01084136],\n",
              "       [0.00898814],\n",
              "       [0.01116568],\n",
              "       [0.00982209],\n",
              "       [0.00921979],\n",
              "       [0.01084136],\n",
              "       [0.00963677],\n",
              "       [0.00871015],\n",
              "       [0.00852483],\n",
              "       [0.00852483],\n",
              "       [0.01269459],\n",
              "       [0.01408451],\n",
              "       [0.01223128],\n",
              "       [0.01269459],\n",
              "       [0.01287991],\n",
              "       [0.01311156],\n",
              "       [0.01454781],\n",
              "       [0.01287991],\n",
              "       [0.01190697],\n",
              "       [0.0125556 ],\n",
              "       [0.01181431],\n",
              "       [0.0119533 ],\n",
              "       [0.01065604],\n",
              "       [0.01093403],\n",
              "       [0.01084136],\n",
              "       [0.01084136],\n",
              "       [0.01084136],\n",
              "       [0.01315789],\n",
              "       [0.01450148],\n",
              "       [0.0136212 ],\n",
              "       [0.01232394],\n",
              "       [0.01176798],\n",
              "       [0.01501112],\n",
              "       [0.01417717],\n",
              "       [0.01315789],\n",
              "       [0.01635471],\n",
              "       [0.02135841],\n",
              "       [0.0239066 ],\n",
              "       [0.03539659],\n",
              "       [0.03169014],\n",
              "       [0.03122684],\n",
              "       [0.03354336],\n",
              "       [0.03122684],\n",
              "       [0.04558932],\n",
              "       [0.03678651],\n",
              "       [0.03910304],\n",
              "       [0.03215345],\n",
              "       [0.03400667],\n",
              "       [0.028447  ],\n",
              "       [0.03817643],\n",
              "       [0.03076353],\n",
              "       [0.0432728 ],\n",
              "       [0.05022239],\n",
              "       [0.04419941],\n",
              "       [0.04744255],\n",
              "       [0.15075983],\n",
              "       [0.11647517],\n",
              "       [0.119255  ],\n",
              "       [0.09747961],\n",
              "       [0.11786509],\n",
              "       [0.17716826],\n",
              "       [0.21376947],\n",
              "       [0.32681615],\n",
              "       [0.27816902],\n",
              "       [0.30504077],\n",
              "       [0.27492587],\n",
              "       [0.32032987],\n",
              "       [0.25732023],\n",
              "       [0.26843959],\n",
              "       [0.30272423],\n",
              "       [0.32774276],\n",
              "       [0.37824314],\n",
              "       [0.31060044],\n",
              "       [0.31013714],\n",
              "       [0.27909563],\n",
              "       [0.27816902],\n",
              "       [0.30967383],\n",
              "       [0.63815788],\n",
              "       [0.87120086],\n",
              "       [1.        ],\n",
              "       [0.65113048],\n",
              "       [0.90015749],\n",
              "       [0.80819128],\n",
              "       [0.75537432],\n",
              "       [0.91799479],\n",
              "       [0.80170493],\n",
              "       [0.82672351],\n",
              "       [0.75398446],\n",
              "       [0.81421422],\n",
              "       [0.78224607],\n",
              "       [0.81328759],\n",
              "       [0.52279465],\n",
              "       [0.4565419 ],\n",
              "       [0.3518347 ],\n",
              "       [0.31199037],\n",
              "       [0.38750925],\n",
              "       [0.55290958],\n",
              "       [0.44959229],\n",
              "       [0.44102115],\n",
              "       [0.54016863],\n",
              "       [0.47739067],\n",
              "       [0.50009266],\n",
              "       [0.44217939],\n",
              "       [0.45422536],\n",
              "       [0.44403262],\n",
              "       [0.45144551],\n",
              "       [0.44449593],\n",
              "       [0.43244996],\n",
              "       [0.45283541],\n",
              "       [0.43615641],\n",
              "       [0.44310598],\n",
              "       [0.42967011],\n",
              "       [0.397702  ],\n",
              "       [0.38148627],\n",
              "       [0.33978873],\n",
              "       [0.36480726],\n",
              "       [0.36341736],\n",
              "       [0.34210527],\n",
              "       [0.32264641],\n",
              "       [0.37546333],\n",
              "       [0.34766494],\n",
              "       [0.32380468],\n",
              "       [0.29253151],\n",
              "       [0.29114158],\n",
              "       [0.2929948 ],\n",
              "       [0.25871016],\n",
              "       [0.26519644],\n",
              "       [0.21330615],\n",
              "       [0.22581542],\n",
              "       [0.21330615],\n",
              "       [0.20542994],\n",
              "       [0.20728317],\n",
              "       [0.18828762],\n",
              "       [0.21284286],\n",
              "       [0.23322831],\n",
              "       [0.25986843],\n",
              "       [0.37546333],\n",
              "       [0.32820608],\n",
              "       [0.38148627],\n",
              "       [0.35322461],\n",
              "       [0.28233878],\n",
              "       [0.33978873],\n",
              "       [0.38079134]])"
            ]
          },
          "execution_count": 57,
          "metadata": {},
          "output_type": "execute_result"
        }
      ],
      "source": [
        "data_training_array = scaler.fit_transform(train_close)\n",
        "data_training_array"
      ]
    },
    {
      "cell_type": "code",
      "execution_count": 58,
      "id": "10227978",
      "metadata": {
        "id": "10227978"
      },
      "outputs": [],
      "source": [
        "x_train = []\n",
        "y_train = [] \n",
        "\n",
        "for i in range(100, data_training_array.shape[0]):\n",
        "    x_train.append(data_training_array[i-100: i])\n",
        "    y_train.append(data_training_array[i, 0])\n",
        "\n",
        "x_train, y_train = np.array(x_train), np.array(y_train) "
      ]
    },
    {
      "cell_type": "code",
      "execution_count": 59,
      "id": "0ea6446e",
      "metadata": {
        "colab": {
          "base_uri": "https://localhost:8080/"
        },
        "id": "0ea6446e",
        "outputId": "d7be262a-4cd6-4bbf-9f50-a13e111cc2ac"
      },
      "outputs": [
        {
          "data": {
            "text/plain": [
              "(208, 100, 1)"
            ]
          },
          "execution_count": 59,
          "metadata": {},
          "output_type": "execute_result"
        }
      ],
      "source": [
        "x_train.shape"
      ]
    },
    {
      "cell_type": "code",
      "execution_count": 60,
      "id": "0e07d528",
      "metadata": {},
      "outputs": [
        {
          "data": {
            "text/plain": [
              "array([[[0.02376761],\n",
              "        [0.0214974 ],\n",
              "        [0.02080245],\n",
              "        ...,\n",
              "        [0.01593773],\n",
              "        [0.01459414],\n",
              "        [0.01501112]],\n",
              "\n",
              "       [[0.0214974 ],\n",
              "        [0.02080245],\n",
              "        [0.02080245],\n",
              "        ...,\n",
              "        [0.01459414],\n",
              "        [0.01501112],\n",
              "        [0.01315789]],\n",
              "\n",
              "       [[0.02080245],\n",
              "        [0.02080245],\n",
              "        [0.02029281],\n",
              "        ...,\n",
              "        [0.01501112],\n",
              "        [0.01315789],\n",
              "        [0.0136212 ]],\n",
              "\n",
              "       ...,\n",
              "\n",
              "       [[0.03122684],\n",
              "        [0.03354336],\n",
              "        [0.03122684],\n",
              "        ...,\n",
              "        [0.32820608],\n",
              "        [0.38148627],\n",
              "        [0.35322461]],\n",
              "\n",
              "       [[0.03354336],\n",
              "        [0.03122684],\n",
              "        [0.04558932],\n",
              "        ...,\n",
              "        [0.38148627],\n",
              "        [0.35322461],\n",
              "        [0.28233878]],\n",
              "\n",
              "       [[0.03122684],\n",
              "        [0.04558932],\n",
              "        [0.03678651],\n",
              "        ...,\n",
              "        [0.35322461],\n",
              "        [0.28233878],\n",
              "        [0.33978873]]], shape=(208, 100, 1))"
            ]
          },
          "execution_count": 60,
          "metadata": {},
          "output_type": "execute_result"
        }
      ],
      "source": [
        "x_train"
      ]
    },
    {
      "cell_type": "markdown",
      "id": "dsMIlQ8DnVOJ",
      "metadata": {
        "id": "dsMIlQ8DnVOJ"
      },
      "source": [
        "# ML Model (LSTM)\n",
        "\n",
        "---\n",
        "\n"
      ]
    },
    {
      "cell_type": "code",
      "execution_count": 61,
      "id": "e60ed317",
      "metadata": {
        "id": "e60ed317"
      },
      "outputs": [],
      "source": [
        "from tensorflow.keras.layers import Dense, Dropout, LSTM\n",
        "from tensorflow.keras.models import Sequential"
      ]
    },
    {
      "cell_type": "code",
      "execution_count": 62,
      "id": "17082610",
      "metadata": {
        "colab": {
          "base_uri": "https://localhost:8080/"
        },
        "id": "17082610",
        "outputId": "1bdf1b3b-dc08-4afe-9b51-d12fb3f1a874"
      },
      "outputs": [
        {
          "name": "stderr",
          "output_type": "stream",
          "text": [
            "/home/tshen/dp-100/mslearn-azure-ml/.venv/lib/python3.12/site-packages/keras/src/layers/rnn/rnn.py:199: UserWarning: Do not pass an `input_shape`/`input_dim` argument to a layer. When using Sequential models, prefer using an `Input(shape)` object as the first layer in the model instead.\n",
            "  super().__init__(**kwargs)\n"
          ]
        }
      ],
      "source": [
        "model = Sequential()\n",
        "model.add(LSTM(units = 50, activation = 'relu', return_sequences=True\n",
        "              ,input_shape = (x_train.shape[1], 1)))\n",
        "model.add(Dropout(0.2))\n",
        "\n",
        "\n",
        "model.add(LSTM(units = 60, activation = 'relu', return_sequences=True))\n",
        "model.add(Dropout(0.3))\n",
        "\n",
        "\n",
        "model.add(LSTM(units = 80, activation = 'relu', return_sequences=True))\n",
        "model.add(Dropout(0.4))\n",
        "\n",
        "\n",
        "model.add(LSTM(units = 120, activation = 'relu'))\n",
        "model.add(Dropout(0.5))\n",
        "\n",
        "model.add(Dense(units = 1))"
      ]
    },
    {
      "cell_type": "code",
      "execution_count": 63,
      "id": "5f5a1db3",
      "metadata": {
        "colab": {
          "base_uri": "https://localhost:8080/"
        },
        "id": "5f5a1db3",
        "outputId": "fa46e211-69af-428f-beb2-73283a533bab"
      },
      "outputs": [
        {
          "data": {
            "text/html": [
              "<pre style=\"white-space:pre;overflow-x:auto;line-height:normal;font-family:Menlo,'DejaVu Sans Mono',consolas,'Courier New',monospace\"><span style=\"font-weight: bold\">Model: \"sequential_1\"</span>\n",
              "</pre>\n"
            ],
            "text/plain": [
              "\u001b[1mModel: \"sequential_1\"\u001b[0m\n"
            ]
          },
          "metadata": {},
          "output_type": "display_data"
        },
        {
          "data": {
            "text/html": [
              "<pre style=\"white-space:pre;overflow-x:auto;line-height:normal;font-family:Menlo,'DejaVu Sans Mono',consolas,'Courier New',monospace\">┏━━━━━━━━━━━━━━━━━━━━━━━━━━━━━━━━━┳━━━━━━━━━━━━━━━━━━━━━━━━┳━━━━━━━━━━━━━━━┓\n",
              "┃<span style=\"font-weight: bold\"> Layer (type)                    </span>┃<span style=\"font-weight: bold\"> Output Shape           </span>┃<span style=\"font-weight: bold\">       Param # </span>┃\n",
              "┡━━━━━━━━━━━━━━━━━━━━━━━━━━━━━━━━━╇━━━━━━━━━━━━━━━━━━━━━━━━╇━━━━━━━━━━━━━━━┩\n",
              "│ lstm_4 (<span style=\"color: #0087ff; text-decoration-color: #0087ff\">LSTM</span>)                   │ (<span style=\"color: #00d7ff; text-decoration-color: #00d7ff\">None</span>, <span style=\"color: #00af00; text-decoration-color: #00af00\">100</span>, <span style=\"color: #00af00; text-decoration-color: #00af00\">50</span>)        │        <span style=\"color: #00af00; text-decoration-color: #00af00\">10,400</span> │\n",
              "├─────────────────────────────────┼────────────────────────┼───────────────┤\n",
              "│ dropout_4 (<span style=\"color: #0087ff; text-decoration-color: #0087ff\">Dropout</span>)             │ (<span style=\"color: #00d7ff; text-decoration-color: #00d7ff\">None</span>, <span style=\"color: #00af00; text-decoration-color: #00af00\">100</span>, <span style=\"color: #00af00; text-decoration-color: #00af00\">50</span>)        │             <span style=\"color: #00af00; text-decoration-color: #00af00\">0</span> │\n",
              "├─────────────────────────────────┼────────────────────────┼───────────────┤\n",
              "│ lstm_5 (<span style=\"color: #0087ff; text-decoration-color: #0087ff\">LSTM</span>)                   │ (<span style=\"color: #00d7ff; text-decoration-color: #00d7ff\">None</span>, <span style=\"color: #00af00; text-decoration-color: #00af00\">100</span>, <span style=\"color: #00af00; text-decoration-color: #00af00\">60</span>)        │        <span style=\"color: #00af00; text-decoration-color: #00af00\">26,640</span> │\n",
              "├─────────────────────────────────┼────────────────────────┼───────────────┤\n",
              "│ dropout_5 (<span style=\"color: #0087ff; text-decoration-color: #0087ff\">Dropout</span>)             │ (<span style=\"color: #00d7ff; text-decoration-color: #00d7ff\">None</span>, <span style=\"color: #00af00; text-decoration-color: #00af00\">100</span>, <span style=\"color: #00af00; text-decoration-color: #00af00\">60</span>)        │             <span style=\"color: #00af00; text-decoration-color: #00af00\">0</span> │\n",
              "├─────────────────────────────────┼────────────────────────┼───────────────┤\n",
              "│ lstm_6 (<span style=\"color: #0087ff; text-decoration-color: #0087ff\">LSTM</span>)                   │ (<span style=\"color: #00d7ff; text-decoration-color: #00d7ff\">None</span>, <span style=\"color: #00af00; text-decoration-color: #00af00\">100</span>, <span style=\"color: #00af00; text-decoration-color: #00af00\">80</span>)        │        <span style=\"color: #00af00; text-decoration-color: #00af00\">45,120</span> │\n",
              "├─────────────────────────────────┼────────────────────────┼───────────────┤\n",
              "│ dropout_6 (<span style=\"color: #0087ff; text-decoration-color: #0087ff\">Dropout</span>)             │ (<span style=\"color: #00d7ff; text-decoration-color: #00d7ff\">None</span>, <span style=\"color: #00af00; text-decoration-color: #00af00\">100</span>, <span style=\"color: #00af00; text-decoration-color: #00af00\">80</span>)        │             <span style=\"color: #00af00; text-decoration-color: #00af00\">0</span> │\n",
              "├─────────────────────────────────┼────────────────────────┼───────────────┤\n",
              "│ lstm_7 (<span style=\"color: #0087ff; text-decoration-color: #0087ff\">LSTM</span>)                   │ (<span style=\"color: #00d7ff; text-decoration-color: #00d7ff\">None</span>, <span style=\"color: #00af00; text-decoration-color: #00af00\">120</span>)            │        <span style=\"color: #00af00; text-decoration-color: #00af00\">96,480</span> │\n",
              "├─────────────────────────────────┼────────────────────────┼───────────────┤\n",
              "│ dropout_7 (<span style=\"color: #0087ff; text-decoration-color: #0087ff\">Dropout</span>)             │ (<span style=\"color: #00d7ff; text-decoration-color: #00d7ff\">None</span>, <span style=\"color: #00af00; text-decoration-color: #00af00\">120</span>)            │             <span style=\"color: #00af00; text-decoration-color: #00af00\">0</span> │\n",
              "├─────────────────────────────────┼────────────────────────┼───────────────┤\n",
              "│ dense_1 (<span style=\"color: #0087ff; text-decoration-color: #0087ff\">Dense</span>)                 │ (<span style=\"color: #00d7ff; text-decoration-color: #00d7ff\">None</span>, <span style=\"color: #00af00; text-decoration-color: #00af00\">1</span>)              │           <span style=\"color: #00af00; text-decoration-color: #00af00\">121</span> │\n",
              "└─────────────────────────────────┴────────────────────────┴───────────────┘\n",
              "</pre>\n"
            ],
            "text/plain": [
              "┏━━━━━━━━━━━━━━━━━━━━━━━━━━━━━━━━━┳━━━━━━━━━━━━━━━━━━━━━━━━┳━━━━━━━━━━━━━━━┓\n",
              "┃\u001b[1m \u001b[0m\u001b[1mLayer (type)                   \u001b[0m\u001b[1m \u001b[0m┃\u001b[1m \u001b[0m\u001b[1mOutput Shape          \u001b[0m\u001b[1m \u001b[0m┃\u001b[1m \u001b[0m\u001b[1m      Param #\u001b[0m\u001b[1m \u001b[0m┃\n",
              "┡━━━━━━━━━━━━━━━━━━━━━━━━━━━━━━━━━╇━━━━━━━━━━━━━━━━━━━━━━━━╇━━━━━━━━━━━━━━━┩\n",
              "│ lstm_4 (\u001b[38;5;33mLSTM\u001b[0m)                   │ (\u001b[38;5;45mNone\u001b[0m, \u001b[38;5;34m100\u001b[0m, \u001b[38;5;34m50\u001b[0m)        │        \u001b[38;5;34m10,400\u001b[0m │\n",
              "├─────────────────────────────────┼────────────────────────┼───────────────┤\n",
              "│ dropout_4 (\u001b[38;5;33mDropout\u001b[0m)             │ (\u001b[38;5;45mNone\u001b[0m, \u001b[38;5;34m100\u001b[0m, \u001b[38;5;34m50\u001b[0m)        │             \u001b[38;5;34m0\u001b[0m │\n",
              "├─────────────────────────────────┼────────────────────────┼───────────────┤\n",
              "│ lstm_5 (\u001b[38;5;33mLSTM\u001b[0m)                   │ (\u001b[38;5;45mNone\u001b[0m, \u001b[38;5;34m100\u001b[0m, \u001b[38;5;34m60\u001b[0m)        │        \u001b[38;5;34m26,640\u001b[0m │\n",
              "├─────────────────────────────────┼────────────────────────┼───────────────┤\n",
              "│ dropout_5 (\u001b[38;5;33mDropout\u001b[0m)             │ (\u001b[38;5;45mNone\u001b[0m, \u001b[38;5;34m100\u001b[0m, \u001b[38;5;34m60\u001b[0m)        │             \u001b[38;5;34m0\u001b[0m │\n",
              "├─────────────────────────────────┼────────────────────────┼───────────────┤\n",
              "│ lstm_6 (\u001b[38;5;33mLSTM\u001b[0m)                   │ (\u001b[38;5;45mNone\u001b[0m, \u001b[38;5;34m100\u001b[0m, \u001b[38;5;34m80\u001b[0m)        │        \u001b[38;5;34m45,120\u001b[0m │\n",
              "├─────────────────────────────────┼────────────────────────┼───────────────┤\n",
              "│ dropout_6 (\u001b[38;5;33mDropout\u001b[0m)             │ (\u001b[38;5;45mNone\u001b[0m, \u001b[38;5;34m100\u001b[0m, \u001b[38;5;34m80\u001b[0m)        │             \u001b[38;5;34m0\u001b[0m │\n",
              "├─────────────────────────────────┼────────────────────────┼───────────────┤\n",
              "│ lstm_7 (\u001b[38;5;33mLSTM\u001b[0m)                   │ (\u001b[38;5;45mNone\u001b[0m, \u001b[38;5;34m120\u001b[0m)            │        \u001b[38;5;34m96,480\u001b[0m │\n",
              "├─────────────────────────────────┼────────────────────────┼───────────────┤\n",
              "│ dropout_7 (\u001b[38;5;33mDropout\u001b[0m)             │ (\u001b[38;5;45mNone\u001b[0m, \u001b[38;5;34m120\u001b[0m)            │             \u001b[38;5;34m0\u001b[0m │\n",
              "├─────────────────────────────────┼────────────────────────┼───────────────┤\n",
              "│ dense_1 (\u001b[38;5;33mDense\u001b[0m)                 │ (\u001b[38;5;45mNone\u001b[0m, \u001b[38;5;34m1\u001b[0m)              │           \u001b[38;5;34m121\u001b[0m │\n",
              "└─────────────────────────────────┴────────────────────────┴───────────────┘\n"
            ]
          },
          "metadata": {},
          "output_type": "display_data"
        },
        {
          "data": {
            "text/html": [
              "<pre style=\"white-space:pre;overflow-x:auto;line-height:normal;font-family:Menlo,'DejaVu Sans Mono',consolas,'Courier New',monospace\"><span style=\"font-weight: bold\"> Total params: </span><span style=\"color: #00af00; text-decoration-color: #00af00\">178,761</span> (698.29 KB)\n",
              "</pre>\n"
            ],
            "text/plain": [
              "\u001b[1m Total params: \u001b[0m\u001b[38;5;34m178,761\u001b[0m (698.29 KB)\n"
            ]
          },
          "metadata": {},
          "output_type": "display_data"
        },
        {
          "data": {
            "text/html": [
              "<pre style=\"white-space:pre;overflow-x:auto;line-height:normal;font-family:Menlo,'DejaVu Sans Mono',consolas,'Courier New',monospace\"><span style=\"font-weight: bold\"> Trainable params: </span><span style=\"color: #00af00; text-decoration-color: #00af00\">178,761</span> (698.29 KB)\n",
              "</pre>\n"
            ],
            "text/plain": [
              "\u001b[1m Trainable params: \u001b[0m\u001b[38;5;34m178,761\u001b[0m (698.29 KB)\n"
            ]
          },
          "metadata": {},
          "output_type": "display_data"
        },
        {
          "data": {
            "text/html": [
              "<pre style=\"white-space:pre;overflow-x:auto;line-height:normal;font-family:Menlo,'DejaVu Sans Mono',consolas,'Courier New',monospace\"><span style=\"font-weight: bold\"> Non-trainable params: </span><span style=\"color: #00af00; text-decoration-color: #00af00\">0</span> (0.00 B)\n",
              "</pre>\n"
            ],
            "text/plain": [
              "\u001b[1m Non-trainable params: \u001b[0m\u001b[38;5;34m0\u001b[0m (0.00 B)\n"
            ]
          },
          "metadata": {},
          "output_type": "display_data"
        }
      ],
      "source": [
        "model.summary()"
      ]
    },
    {
      "cell_type": "markdown",
      "id": "KgEnUfCnn_1r",
      "metadata": {
        "id": "KgEnUfCnn_1r"
      },
      "source": [
        "# Training the model\n",
        "\n",
        "---\n",
        "\n"
      ]
    },
    {
      "cell_type": "code",
      "execution_count": 64,
      "id": "1d0c9b64",
      "metadata": {
        "colab": {
          "base_uri": "https://localhost:8080/"
        },
        "id": "1d0c9b64",
        "outputId": "6461b746-dd3a-443f-b303-d085ba34acc2",
        "scrolled": false
      },
      "outputs": [
        {
          "name": "stdout",
          "output_type": "stream",
          "text": [
            "Epoch 1/50\n",
            "\u001b[1m6/7\u001b[0m \u001b[32m━━━━━━━━━━━━━━━━━\u001b[0m\u001b[37m━━━\u001b[0m \u001b[1m0s\u001b[0m 178ms/step - MAE: 0.1510 - loss: 0.0745"
          ]
        },
        {
          "name": "stderr",
          "output_type": "stream",
          "text": [
            "2025-10-06 11:01:42.942627: I external/local_xla/xla/stream_executor/cuda/subprocess_compilation.cc:346] ptxas warning : Registers are spilled to local memory in function 'gemm_fusion_dot_129', 8 bytes spill stores, 8 bytes spill loads\n",
            "\n",
            "2025-10-06 11:01:43.826630: I external/local_xla/xla/stream_executor/cuda/subprocess_compilation.cc:346] ptxas warning : Registers are spilled to local memory in function 'gemm_fusion_dot_121', 12 bytes spill stores, 12 bytes spill loads\n",
            "\n",
            "2025-10-06 11:01:44.066869: I external/local_xla/xla/stream_executor/cuda/subprocess_compilation.cc:346] ptxas warning : Registers are spilled to local memory in function 'gemm_fusion_dot_129', 20 bytes spill stores, 20 bytes spill loads\n",
            "\n"
          ]
        },
        {
          "name": "stdout",
          "output_type": "stream",
          "text": [
            "\u001b[1m7/7\u001b[0m \u001b[32m━━━━━━━━━━━━━━━━━━━━\u001b[0m\u001b[37m\u001b[0m \u001b[1m48s\u001b[0m 3s/step - MAE: 0.1617 - loss: 0.0689\n",
            "Epoch 2/50\n",
            "\u001b[1m7/7\u001b[0m \u001b[32m━━━━━━━━━━━━━━━━━━━━\u001b[0m\u001b[37m\u001b[0m \u001b[1m1s\u001b[0m 185ms/step - MAE: 0.1707 - loss: 0.0428\n",
            "Epoch 3/50\n",
            "\u001b[1m7/7\u001b[0m \u001b[32m━━━━━━━━━━━━━━━━━━━━\u001b[0m\u001b[37m\u001b[0m \u001b[1m1s\u001b[0m 172ms/step - MAE: 0.1344 - loss: 0.0370\n",
            "Epoch 4/50\n",
            "\u001b[1m7/7\u001b[0m \u001b[32m━━━━━━━━━━━━━━━━━━━━\u001b[0m\u001b[37m\u001b[0m \u001b[1m1s\u001b[0m 173ms/step - MAE: 0.1200 - loss: 0.0288\n",
            "Epoch 5/50\n",
            "\u001b[1m7/7\u001b[0m \u001b[32m━━━━━━━━━━━━━━━━━━━━\u001b[0m\u001b[37m\u001b[0m \u001b[1m1s\u001b[0m 163ms/step - MAE: 0.0992 - loss: 0.0272\n",
            "Epoch 6/50\n",
            "\u001b[1m7/7\u001b[0m \u001b[32m━━━━━━━━━━━━━━━━━━━━\u001b[0m\u001b[37m\u001b[0m \u001b[1m1s\u001b[0m 165ms/step - MAE: 0.1013 - loss: 0.0253\n",
            "Epoch 7/50\n",
            "\u001b[1m7/7\u001b[0m \u001b[32m━━━━━━━━━━━━━━━━━━━━\u001b[0m\u001b[37m\u001b[0m \u001b[1m2s\u001b[0m 222ms/step - MAE: 0.0883 - loss: 0.0216\n",
            "Epoch 8/50\n",
            "\u001b[1m7/7\u001b[0m \u001b[32m━━━━━━━━━━━━━━━━━━━━\u001b[0m\u001b[37m\u001b[0m \u001b[1m1s\u001b[0m 151ms/step - MAE: 0.0913 - loss: 0.0207\n",
            "Epoch 9/50\n",
            "\u001b[1m7/7\u001b[0m \u001b[32m━━━━━━━━━━━━━━━━━━━━\u001b[0m\u001b[37m\u001b[0m \u001b[1m1s\u001b[0m 144ms/step - MAE: 0.0736 - loss: 0.0226\n",
            "Epoch 10/50\n",
            "\u001b[1m7/7\u001b[0m \u001b[32m━━━━━━━━━━━━━━━━━━━━\u001b[0m\u001b[37m\u001b[0m \u001b[1m1s\u001b[0m 156ms/step - MAE: 0.0910 - loss: 0.0179\n",
            "Epoch 11/50\n",
            "\u001b[1m7/7\u001b[0m \u001b[32m━━━━━━━━━━━━━━━━━━━━\u001b[0m\u001b[37m\u001b[0m \u001b[1m1s\u001b[0m 151ms/step - MAE: 0.0691 - loss: 0.0182\n",
            "Epoch 12/50\n",
            "\u001b[1m7/7\u001b[0m \u001b[32m━━━━━━━━━━━━━━━━━━━━\u001b[0m\u001b[37m\u001b[0m \u001b[1m1s\u001b[0m 164ms/step - MAE: 0.0650 - loss: 0.0130\n",
            "Epoch 13/50\n",
            "\u001b[1m7/7\u001b[0m \u001b[32m━━━━━━━━━━━━━━━━━━━━\u001b[0m\u001b[37m\u001b[0m \u001b[1m1s\u001b[0m 171ms/step - MAE: 0.0750 - loss: 0.0153\n",
            "Epoch 14/50\n",
            "\u001b[1m7/7\u001b[0m \u001b[32m━━━━━━━━━━━━━━━━━━━━\u001b[0m\u001b[37m\u001b[0m \u001b[1m1s\u001b[0m 161ms/step - MAE: 0.0576 - loss: 0.0101\n",
            "Epoch 15/50\n",
            "\u001b[1m7/7\u001b[0m \u001b[32m━━━━━━━━━━━━━━━━━━━━\u001b[0m\u001b[37m\u001b[0m \u001b[1m1s\u001b[0m 151ms/step - MAE: 0.0654 - loss: 0.0138\n",
            "Epoch 16/50\n",
            "\u001b[1m7/7\u001b[0m \u001b[32m━━━━━━━━━━━━━━━━━━━━\u001b[0m\u001b[37m\u001b[0m \u001b[1m1s\u001b[0m 186ms/step - MAE: 0.0655 - loss: 0.0124\n",
            "Epoch 17/50\n",
            "\u001b[1m7/7\u001b[0m \u001b[32m━━━━━━━━━━━━━━━━━━━━\u001b[0m\u001b[37m\u001b[0m \u001b[1m1s\u001b[0m 158ms/step - MAE: 0.0524 - loss: 0.0083\n",
            "Epoch 18/50\n",
            "\u001b[1m7/7\u001b[0m \u001b[32m━━━━━━━━━━━━━━━━━━━━\u001b[0m\u001b[37m\u001b[0m \u001b[1m1s\u001b[0m 133ms/step - MAE: 0.0543 - loss: 0.0090\n",
            "Epoch 19/50\n",
            "\u001b[1m7/7\u001b[0m \u001b[32m━━━━━━━━━━━━━━━━━━━━\u001b[0m\u001b[37m\u001b[0m \u001b[1m1s\u001b[0m 143ms/step - MAE: 0.0530 - loss: 0.0075\n",
            "Epoch 20/50\n",
            "\u001b[1m7/7\u001b[0m \u001b[32m━━━━━━━━━━━━━━━━━━━━\u001b[0m\u001b[37m\u001b[0m \u001b[1m1s\u001b[0m 133ms/step - MAE: 0.0542 - loss: 0.0085\n",
            "Epoch 21/50\n",
            "\u001b[1m7/7\u001b[0m \u001b[32m━━━━━━━━━━━━━━━━━━━━\u001b[0m\u001b[37m\u001b[0m \u001b[1m1s\u001b[0m 147ms/step - MAE: 0.0591 - loss: 0.0118\n",
            "Epoch 22/50\n",
            "\u001b[1m7/7\u001b[0m \u001b[32m━━━━━━━━━━━━━━━━━━━━\u001b[0m\u001b[37m\u001b[0m \u001b[1m1s\u001b[0m 133ms/step - MAE: 0.0576 - loss: 0.0085\n",
            "Epoch 23/50\n",
            "\u001b[1m7/7\u001b[0m \u001b[32m━━━━━━━━━━━━━━━━━━━━\u001b[0m\u001b[37m\u001b[0m \u001b[1m1s\u001b[0m 170ms/step - MAE: 0.0576 - loss: 0.0083\n",
            "Epoch 24/50\n",
            "\u001b[1m7/7\u001b[0m \u001b[32m━━━━━━━━━━━━━━━━━━━━\u001b[0m\u001b[37m\u001b[0m \u001b[1m1s\u001b[0m 157ms/step - MAE: 0.0530 - loss: 0.0086\n",
            "Epoch 25/50\n",
            "\u001b[1m7/7\u001b[0m \u001b[32m━━━━━━━━━━━━━━━━━━━━\u001b[0m\u001b[37m\u001b[0m \u001b[1m1s\u001b[0m 130ms/step - MAE: 0.0527 - loss: 0.0092\n",
            "Epoch 26/50\n",
            "\u001b[1m7/7\u001b[0m \u001b[32m━━━━━━━━━━━━━━━━━━━━\u001b[0m\u001b[37m\u001b[0m \u001b[1m1s\u001b[0m 158ms/step - MAE: 0.0573 - loss: 0.0087\n",
            "Epoch 27/50\n",
            "\u001b[1m7/7\u001b[0m \u001b[32m━━━━━━━━━━━━━━━━━━━━\u001b[0m\u001b[37m\u001b[0m \u001b[1m4s\u001b[0m 612ms/step - MAE: 0.0484 - loss: 0.0075\n",
            "Epoch 28/50\n",
            "\u001b[1m7/7\u001b[0m \u001b[32m━━━━━━━━━━━━━━━━━━━━\u001b[0m\u001b[37m\u001b[0m \u001b[1m1s\u001b[0m 158ms/step - MAE: 0.0491 - loss: 0.0076\n",
            "Epoch 29/50\n",
            "\u001b[1m7/7\u001b[0m \u001b[32m━━━━━━━━━━━━━━━━━━━━\u001b[0m\u001b[37m\u001b[0m \u001b[1m1s\u001b[0m 165ms/step - MAE: 0.0498 - loss: 0.0079\n",
            "Epoch 30/50\n",
            "\u001b[1m7/7\u001b[0m \u001b[32m━━━━━━━━━━━━━━━━━━━━\u001b[0m\u001b[37m\u001b[0m \u001b[1m1s\u001b[0m 173ms/step - MAE: 0.0546 - loss: 0.0082\n",
            "Epoch 31/50\n",
            "\u001b[1m7/7\u001b[0m \u001b[32m━━━━━━━━━━━━━━━━━━━━\u001b[0m\u001b[37m\u001b[0m \u001b[1m1s\u001b[0m 168ms/step - MAE: 0.0428 - loss: 0.0061\n",
            "Epoch 32/50\n",
            "\u001b[1m7/7\u001b[0m \u001b[32m━━━━━━━━━━━━━━━━━━━━\u001b[0m\u001b[37m\u001b[0m \u001b[1m1s\u001b[0m 147ms/step - MAE: 0.0483 - loss: 0.0075\n",
            "Epoch 33/50\n",
            "\u001b[1m7/7\u001b[0m \u001b[32m━━━━━━━━━━━━━━━━━━━━\u001b[0m\u001b[37m\u001b[0m \u001b[1m1s\u001b[0m 156ms/step - MAE: 0.0497 - loss: 0.0067\n",
            "Epoch 34/50\n",
            "\u001b[1m7/7\u001b[0m \u001b[32m━━━━━━━━━━━━━━━━━━━━\u001b[0m\u001b[37m\u001b[0m \u001b[1m1s\u001b[0m 143ms/step - MAE: 0.0502 - loss: 0.0082\n",
            "Epoch 35/50\n",
            "\u001b[1m7/7\u001b[0m \u001b[32m━━━━━━━━━━━━━━━━━━━━\u001b[0m\u001b[37m\u001b[0m \u001b[1m1s\u001b[0m 212ms/step - MAE: 0.0468 - loss: 0.0062\n",
            "Epoch 36/50\n",
            "\u001b[1m7/7\u001b[0m \u001b[32m━━━━━━━━━━━━━━━━━━━━\u001b[0m\u001b[37m\u001b[0m \u001b[1m1s\u001b[0m 150ms/step - MAE: 0.0602 - loss: 0.0075\n",
            "Epoch 37/50\n",
            "\u001b[1m7/7\u001b[0m \u001b[32m━━━━━━━━━━━━━━━━━━━━\u001b[0m\u001b[37m\u001b[0m \u001b[1m1s\u001b[0m 167ms/step - MAE: 0.0483 - loss: 0.0074\n",
            "Epoch 38/50\n",
            "\u001b[1m7/7\u001b[0m \u001b[32m━━━━━━━━━━━━━━━━━━━━\u001b[0m\u001b[37m\u001b[0m \u001b[1m1s\u001b[0m 141ms/step - MAE: 0.0486 - loss: 0.0067\n",
            "Epoch 39/50\n",
            "\u001b[1m7/7\u001b[0m \u001b[32m━━━━━━━━━━━━━━━━━━━━\u001b[0m\u001b[37m\u001b[0m \u001b[1m1s\u001b[0m 172ms/step - MAE: 0.0474 - loss: 0.0063\n",
            "Epoch 40/50\n",
            "\u001b[1m7/7\u001b[0m \u001b[32m━━━━━━━━━━━━━━━━━━━━\u001b[0m\u001b[37m\u001b[0m \u001b[1m1s\u001b[0m 139ms/step - MAE: 0.0471 - loss: 0.0061\n",
            "Epoch 41/50\n",
            "\u001b[1m7/7\u001b[0m \u001b[32m━━━━━━━━━━━━━━━━━━━━\u001b[0m\u001b[37m\u001b[0m \u001b[1m1s\u001b[0m 152ms/step - MAE: 0.0477 - loss: 0.0084\n",
            "Epoch 42/50\n",
            "\u001b[1m7/7\u001b[0m \u001b[32m━━━━━━━━━━━━━━━━━━━━\u001b[0m\u001b[37m\u001b[0m \u001b[1m1s\u001b[0m 148ms/step - MAE: 0.0401 - loss: 0.0052\n",
            "Epoch 43/50\n",
            "\u001b[1m7/7\u001b[0m \u001b[32m━━━━━━━━━━━━━━━━━━━━\u001b[0m\u001b[37m\u001b[0m \u001b[1m1s\u001b[0m 143ms/step - MAE: 0.0437 - loss: 0.0058\n",
            "Epoch 44/50\n",
            "\u001b[1m7/7\u001b[0m \u001b[32m━━━━━━━━━━━━━━━━━━━━\u001b[0m\u001b[37m\u001b[0m \u001b[1m1s\u001b[0m 148ms/step - MAE: 0.0392 - loss: 0.0043\n",
            "Epoch 45/50\n",
            "\u001b[1m7/7\u001b[0m \u001b[32m━━━━━━━━━━━━━━━━━━━━\u001b[0m\u001b[37m\u001b[0m \u001b[1m1s\u001b[0m 152ms/step - MAE: 0.0413 - loss: 0.0056\n",
            "Epoch 46/50\n",
            "\u001b[1m7/7\u001b[0m \u001b[32m━━━━━━━━━━━━━━━━━━━━\u001b[0m\u001b[37m\u001b[0m \u001b[1m1s\u001b[0m 173ms/step - MAE: 0.0423 - loss: 0.0047\n",
            "Epoch 47/50\n",
            "\u001b[1m7/7\u001b[0m \u001b[32m━━━━━━━━━━━━━━━━━━━━\u001b[0m\u001b[37m\u001b[0m \u001b[1m1s\u001b[0m 142ms/step - MAE: 0.0384 - loss: 0.0055\n",
            "Epoch 48/50\n",
            "\u001b[1m7/7\u001b[0m \u001b[32m━━━━━━━━━━━━━━━━━━━━\u001b[0m\u001b[37m\u001b[0m \u001b[1m1s\u001b[0m 165ms/step - MAE: 0.0428 - loss: 0.0064\n",
            "Epoch 49/50\n",
            "\u001b[1m7/7\u001b[0m \u001b[32m━━━━━━━━━━━━━━━━━━━━\u001b[0m\u001b[37m\u001b[0m \u001b[1m1s\u001b[0m 153ms/step - MAE: 0.0525 - loss: 0.0084\n",
            "Epoch 50/50\n",
            "\u001b[1m7/7\u001b[0m \u001b[32m━━━━━━━━━━━━━━━━━━━━\u001b[0m\u001b[37m\u001b[0m \u001b[1m1s\u001b[0m 138ms/step - MAE: 0.0441 - loss: 0.0066\n"
          ]
        },
        {
          "data": {
            "text/plain": [
              "<keras.src.callbacks.history.History at 0x7f6280702180>"
            ]
          },
          "execution_count": 64,
          "metadata": {},
          "output_type": "execute_result"
        }
      ],
      "source": [
        "model.compile(optimizer = 'adam', loss = 'mean_squared_error', metrics = ['MAE'])\n",
        "# model.fit(x_train, y_train, validation_data = (x_test, y_test) ,epochs = 50) - not working\n",
        "model.fit(x_train, y_train, epochs = 50)"
      ]
    },
    {
      "cell_type": "code",
      "execution_count": 66,
      "id": "zG1W6DhzI-hP",
      "metadata": {
        "id": "zG1W6DhzI-hP"
      },
      "outputs": [
        {
          "name": "stderr",
          "output_type": "stream",
          "text": [
            "WARNING:absl:You are saving your model as an HDF5 file via `model.save()` or `keras.saving.save_model(model)`. This file format is considered legacy. We recommend using instead the native Keras format, e.g. `model.save('my_model.keras')` or `keras.saving.save_model(model, 'my_model.keras')`. \n"
          ]
        }
      ],
      "source": [
        "model.save('models/keras_model.h5')"
      ]
    },
    {
      "cell_type": "code",
      "execution_count": null,
      "id": "khcKI1sSJSJB",
      "metadata": {
        "id": "khcKI1sSJSJB"
      },
      "outputs": [
        {
          "data": {
            "text/plain": [
              "array([[18.02000046],\n",
              "       [18.52000046],\n",
              "       [19.81500053],\n",
              "       [19.60000038],\n",
              "       [18.20000076],\n",
              "       [17.20499992],\n",
              "       [17.23999977],\n",
              "       [16.96999931],\n",
              "       [16.97999954],\n",
              "       [16.06999969],\n",
              "       [15.30000019],\n",
              "       [15.24499989],\n",
              "       [14.19999981],\n",
              "       [14.93000031],\n",
              "       [16.46999931],\n",
              "       [16.78499985],\n",
              "       [15.98999977],\n",
              "       [15.97500038],\n",
              "       [16.05999947],\n",
              "       [16.40999985],\n",
              "       [16.54999924],\n",
              "       [15.78999996],\n",
              "       [14.89000034],\n",
              "       [15.27000046],\n",
              "       [15.81999969],\n",
              "       [14.70100021],\n",
              "       [14.51000023],\n",
              "       [14.59000015],\n",
              "       [15.73999977],\n",
              "       [15.04199982],\n",
              "       [15.20499992],\n",
              "       [15.10000038],\n",
              "       [16.04999924],\n",
              "       [15.25      ],\n",
              "       [15.21000004],\n",
              "       [14.60999966],\n",
              "       [15.07999992],\n",
              "       [15.        ],\n",
              "       [15.25      ],\n",
              "       [16.14999962],\n",
              "       [15.36999989],\n",
              "       [16.        ],\n",
              "       [17.21999931],\n",
              "       [16.91500092],\n",
              "       [16.72999954],\n",
              "       [18.47999954],\n",
              "       [18.19000053],\n",
              "       [20.32999992],\n",
              "       [21.01000023],\n",
              "       [21.92000008],\n",
              "       [20.39999962],\n",
              "       [20.54999924],\n",
              "       [20.70000076],\n",
              "       [18.85000038],\n",
              "       [18.34000015],\n",
              "       [19.30999947],\n",
              "       [21.75      ]])"
            ]
          },
          "execution_count": 30,
          "metadata": {},
          "output_type": "execute_result"
        }
      ],
      "source": [
        "\n",
        "test_close.shape\n",
        "test_close"
      ]
    },
    {
      "cell_type": "code",
      "execution_count": null,
      "id": "6QyF-7KbKaGt",
      "metadata": {
        "id": "6QyF-7KbKaGt"
      },
      "outputs": [],
      "source": [
        "past_100_days = pd.DataFrame(train_close[-100:])"
      ]
    },
    {
      "cell_type": "code",
      "execution_count": null,
      "id": "pKsjLCyGLuOz",
      "metadata": {
        "id": "pKsjLCyGLuOz"
      },
      "outputs": [],
      "source": [
        "test_df = pd.DataFrame(test_close)"
      ]
    },
    {
      "cell_type": "markdown",
      "id": "d9ZKAzB8oKXJ",
      "metadata": {
        "id": "d9ZKAzB8oKXJ"
      },
      "source": [
        "**Defining the final dataset for testing by including last 100 coloums of the training dataset to get the prediction from the 1st column of the testing dataset.**\n",
        "\n",
        "---\n"
      ]
    },
    {
      "cell_type": "code",
      "execution_count": null,
      "id": "UUapqTcVLOj-",
      "metadata": {
        "colab": {
          "base_uri": "https://localhost:8080/"
        },
        "id": "UUapqTcVLOj-",
        "outputId": "574ac38d-9500-4d04-a59c-63b999af43d5"
      },
      "outputs": [],
      "source": [
        "# final_df = past_100_days.append(test_df, ignore_index = True) - obsolete\n",
        "final_df = pd.concat([past_100_days, test_df], ignore_index = True)"
      ]
    },
    {
      "cell_type": "code",
      "execution_count": null,
      "id": "L5gFYc1hMRjS",
      "metadata": {
        "colab": {
          "base_uri": "https://localhost:8080/",
          "height": 206
        },
        "id": "L5gFYc1hMRjS",
        "outputId": "384ca741-98e4-4df1-d68f-ee92c82663e2"
      },
      "outputs": [
        {
          "data": {
            "text/html": [
              "\n",
              "  <div id=\"df-f1701025-66d4-4aaf-86a9-2272b440deb0\">\n",
              "    <div class=\"colab-df-container\">\n",
              "      <div>\n",
              "<style scoped>\n",
              "    .dataframe tbody tr th:only-of-type {\n",
              "        vertical-align: middle;\n",
              "    }\n",
              "\n",
              "    .dataframe tbody tr th {\n",
              "        vertical-align: top;\n",
              "    }\n",
              "\n",
              "    .dataframe thead th {\n",
              "        text-align: right;\n",
              "    }\n",
              "</style>\n",
              "<table border=\"1\" class=\"dataframe\">\n",
              "  <thead>\n",
              "    <tr style=\"text-align: right;\">\n",
              "      <th></th>\n",
              "      <th>0</th>\n",
              "    </tr>\n",
              "  </thead>\n",
              "  <tbody>\n",
              "    <tr>\n",
              "      <th>0</th>\n",
              "      <td>81.279999</td>\n",
              "    </tr>\n",
              "    <tr>\n",
              "      <th>1</th>\n",
              "      <td>80.580002</td>\n",
              "    </tr>\n",
              "    <tr>\n",
              "      <th>2</th>\n",
              "      <td>82.875000</td>\n",
              "    </tr>\n",
              "    <tr>\n",
              "      <th>3</th>\n",
              "      <td>83.364998</td>\n",
              "    </tr>\n",
              "    <tr>\n",
              "      <th>4</th>\n",
              "      <td>85.997498</td>\n",
              "    </tr>\n",
              "  </tbody>\n",
              "</table>\n",
              "</div>\n",
              "      <button class=\"colab-df-convert\" onclick=\"convertToInteractive('df-f1701025-66d4-4aaf-86a9-2272b440deb0')\"\n",
              "              title=\"Convert this dataframe to an interactive table.\"\n",
              "              style=\"display:none;\">\n",
              "        \n",
              "  <svg xmlns=\"http://www.w3.org/2000/svg\" height=\"24px\"viewBox=\"0 0 24 24\"\n",
              "       width=\"24px\">\n",
              "    <path d=\"M0 0h24v24H0V0z\" fill=\"none\"/>\n",
              "    <path d=\"M18.56 5.44l.94 2.06.94-2.06 2.06-.94-2.06-.94-.94-2.06-.94 2.06-2.06.94zm-11 1L8.5 8.5l.94-2.06 2.06-.94-2.06-.94L8.5 2.5l-.94 2.06-2.06.94zm10 10l.94 2.06.94-2.06 2.06-.94-2.06-.94-.94-2.06-.94 2.06-2.06.94z\"/><path d=\"M17.41 7.96l-1.37-1.37c-.4-.4-.92-.59-1.43-.59-.52 0-1.04.2-1.43.59L10.3 9.45l-7.72 7.72c-.78.78-.78 2.05 0 2.83L4 21.41c.39.39.9.59 1.41.59.51 0 1.02-.2 1.41-.59l7.78-7.78 2.81-2.81c.8-.78.8-2.07 0-2.86zM5.41 20L4 18.59l7.72-7.72 1.47 1.35L5.41 20z\"/>\n",
              "  </svg>\n",
              "      </button>\n",
              "      \n",
              "  <style>\n",
              "    .colab-df-container {\n",
              "      display:flex;\n",
              "      flex-wrap:wrap;\n",
              "      gap: 12px;\n",
              "    }\n",
              "\n",
              "    .colab-df-convert {\n",
              "      background-color: #E8F0FE;\n",
              "      border: none;\n",
              "      border-radius: 50%;\n",
              "      cursor: pointer;\n",
              "      display: none;\n",
              "      fill: #1967D2;\n",
              "      height: 32px;\n",
              "      padding: 0 0 0 0;\n",
              "      width: 32px;\n",
              "    }\n",
              "\n",
              "    .colab-df-convert:hover {\n",
              "      background-color: #E2EBFA;\n",
              "      box-shadow: 0px 1px 2px rgba(60, 64, 67, 0.3), 0px 1px 3px 1px rgba(60, 64, 67, 0.15);\n",
              "      fill: #174EA6;\n",
              "    }\n",
              "\n",
              "    [theme=dark] .colab-df-convert {\n",
              "      background-color: #3B4455;\n",
              "      fill: #D2E3FC;\n",
              "    }\n",
              "\n",
              "    [theme=dark] .colab-df-convert:hover {\n",
              "      background-color: #434B5C;\n",
              "      box-shadow: 0px 1px 3px 1px rgba(0, 0, 0, 0.15);\n",
              "      filter: drop-shadow(0px 1px 2px rgba(0, 0, 0, 0.3));\n",
              "      fill: #FFFFFF;\n",
              "    }\n",
              "  </style>\n",
              "\n",
              "      <script>\n",
              "        const buttonEl =\n",
              "          document.querySelector('#df-f1701025-66d4-4aaf-86a9-2272b440deb0 button.colab-df-convert');\n",
              "        buttonEl.style.display =\n",
              "          google.colab.kernel.accessAllowed ? 'block' : 'none';\n",
              "\n",
              "        async function convertToInteractive(key) {\n",
              "          const element = document.querySelector('#df-f1701025-66d4-4aaf-86a9-2272b440deb0');\n",
              "          const dataTable =\n",
              "            await google.colab.kernel.invokeFunction('convertToInteractive',\n",
              "                                                     [key], {});\n",
              "          if (!dataTable) return;\n",
              "\n",
              "          const docLinkHtml = 'Like what you see? Visit the ' +\n",
              "            '<a target=\"_blank\" href=https://colab.research.google.com/notebooks/data_table.ipynb>data table notebook</a>'\n",
              "            + ' to learn more about interactive tables.';\n",
              "          element.innerHTML = '';\n",
              "          dataTable['output_type'] = 'display_data';\n",
              "          await google.colab.output.renderOutput(dataTable, element);\n",
              "          const docLink = document.createElement('div');\n",
              "          docLink.innerHTML = docLinkHtml;\n",
              "          element.appendChild(docLink);\n",
              "        }\n",
              "      </script>\n",
              "    </div>\n",
              "  </div>\n",
              "  "
            ],
            "text/plain": [
              "           0\n",
              "0  81.279999\n",
              "1  80.580002\n",
              "2  82.875000\n",
              "3  83.364998\n",
              "4  85.997498"
            ]
          },
          "execution_count": 58,
          "metadata": {},
          "output_type": "execute_result"
        }
      ],
      "source": [
        "final_df.head()"
      ]
    },
    {
      "cell_type": "code",
      "execution_count": null,
      "id": "BU7BPmzvMZpZ",
      "metadata": {
        "id": "BU7BPmzvMZpZ"
      },
      "outputs": [
        {
          "data": {
            "text/plain": [
              "array([[0.2316514 ],\n",
              "       [0.19724771],\n",
              "       [0.1677179 ],\n",
              "       [0.12901376],\n",
              "       [0.12729357],\n",
              "       [0.12958714],\n",
              "       [0.08715596],\n",
              "       [0.09518348],\n",
              "       [0.0309633 ],\n",
              "       [0.04644495],\n",
              "       [0.0309633 ],\n",
              "       [0.02121559],\n",
              "       [0.02350917],\n",
              "       [0.        ],\n",
              "       [0.03038992],\n",
              "       [0.05561925],\n",
              "       [0.08858945],\n",
              "       [0.2316514 ],\n",
              "       [0.17316514],\n",
              "       [0.23910548],\n",
              "       [0.20412844],\n",
              "       [0.11639909],\n",
              "       [0.1875    ],\n",
              "       [0.23824542],\n",
              "       [0.23394498],\n",
              "       [0.19438073],\n",
              "       [0.18606651],\n",
              "       [0.20298168],\n",
              "       [0.21330274],\n",
              "       [0.17316514],\n",
              "       [0.15596329],\n",
              "       [0.15538991],\n",
              "       [0.08772937],\n",
              "       [0.14621561],\n",
              "       [0.0928899 ],\n",
              "       [0.13016055],\n",
              "       [0.1364679 ],\n",
              "       [0.15596329],\n",
              "       [0.14162843],\n",
              "       [0.12729357],\n",
              "       [0.11009175],\n",
              "       [0.09919725],\n",
              "       [0.08256881],\n",
              "       [0.10607798],\n",
              "       [0.10951834],\n",
              "       [0.14248854],\n",
              "       [0.16026377],\n",
              "       [0.16055047],\n",
              "       [0.12614678],\n",
              "       [0.14621561],\n",
              "       [0.15022935],\n",
              "       [0.18463301],\n",
              "       [0.15252293],\n",
              "       [0.14936927],\n",
              "       [0.17861237],\n",
              "       [0.21272933],\n",
              "       [0.28784403],\n",
              "       [0.25917431],\n",
              "       [0.25917431],\n",
              "       [0.25229358],\n",
              "       [0.34690365],\n",
              "       [0.43635322],\n",
              "       [0.47362384],\n",
              "       [0.39736237],\n",
              "       [0.34977064],\n",
              "       [0.39277522],\n",
              "       [0.54443809],\n",
              "       [0.47591741],\n",
              "       [0.52522937],\n",
              "       [0.43463305],\n",
              "       [0.39162846],\n",
              "       [0.44352065],\n",
              "       [0.45756881],\n",
              "       [0.46846328],\n",
              "       [0.44036696],\n",
              "       [0.58944955],\n",
              "       [0.58543575],\n",
              "       [0.72362387],\n",
              "       [0.87442658],\n",
              "       [0.71674309],\n",
              "       [0.73853214],\n",
              "       [0.88245417],\n",
              "       [0.90883027],\n",
              "       [0.89564222],\n",
              "       [0.65452984],\n",
              "       [0.78497706],\n",
              "       [0.77178902],\n",
              "       [0.71674309],\n",
              "       [0.7178899 ],\n",
              "       [0.75028672],\n",
              "       [0.81708713],\n",
              "       [0.80332567],\n",
              "       [0.91255736],\n",
              "       [0.93635318],\n",
              "       [0.90194948],\n",
              "       [0.85722478],\n",
              "       [0.84575685],\n",
              "       [0.82683484],\n",
              "       [0.76920874],\n",
              "       [0.83428903],\n",
              "       [0.77637617],\n",
              "       [0.80504589],\n",
              "       [0.87930049],\n",
              "       [0.86697249],\n",
              "       [0.78669729],\n",
              "       [0.72964449],\n",
              "       [0.73165136],\n",
              "       [0.71616968],\n",
              "       [0.71674309],\n",
              "       [0.6645642 ],\n",
              "       [0.62041285],\n",
              "       [0.61725916],\n",
              "       [0.55733944],\n",
              "       [0.59919726],\n",
              "       [0.68749996],\n",
              "       [0.70556191],\n",
              "       [0.65997705],\n",
              "       [0.65911699],\n",
              "       [0.66399079],\n",
              "       [0.68405962],\n",
              "       [0.69208711],\n",
              "       [0.64850917],\n",
              "       [0.59690369],\n",
              "       [0.61869268],\n",
              "       [0.65022934],\n",
              "       [0.58606652],\n",
              "       [0.57511469],\n",
              "       [0.57970184],\n",
              "       [0.64564219],\n",
              "       [0.60561925],\n",
              "       [0.61496559],\n",
              "       [0.60894497],\n",
              "       [0.66341738],\n",
              "       [0.61754587],\n",
              "       [0.61525229],\n",
              "       [0.5808486 ],\n",
              "       [0.60779816],\n",
              "       [0.60321101],\n",
              "       [0.61754587],\n",
              "       [0.66915135],\n",
              "       [0.6244266 ],\n",
              "       [0.66055046],\n",
              "       [0.73050454],\n",
              "       [0.7130161 ],\n",
              "       [0.70240823],\n",
              "       [0.80275226],\n",
              "       [0.78612388],\n",
              "       [0.90883027],\n",
              "       [0.94782111],\n",
              "       [1.        ],\n",
              "       [0.91284401],\n",
              "       [0.92144491],\n",
              "       [0.93004591],\n",
              "       [0.82396791],\n",
              "       [0.79472478],\n",
              "       [0.850344  ],\n",
              "       [0.99025229]])"
            ]
          },
          "execution_count": 35,
          "metadata": {},
          "output_type": "execute_result"
        }
      ],
      "source": [
        "input_data = scaler.fit_transform(final_df)\n",
        "input_data"
      ]
    },
    {
      "cell_type": "code",
      "execution_count": null,
      "id": "2E6k84TtMpvD",
      "metadata": {
        "colab": {
          "base_uri": "https://localhost:8080/"
        },
        "id": "2E6k84TtMpvD",
        "outputId": "01e58a86-5d69-4a6c-9c0b-24a295bf6489"
      },
      "outputs": [
        {
          "data": {
            "text/plain": [
              "(157, 1)"
            ]
          },
          "execution_count": 36,
          "metadata": {},
          "output_type": "execute_result"
        }
      ],
      "source": [
        "input_data.shape"
      ]
    },
    {
      "cell_type": "markdown",
      "id": "hJzkNc_To9li",
      "metadata": {
        "id": "hJzkNc_To9li"
      },
      "source": [
        "# Testing the model\n",
        "\n",
        "---\n",
        "\n"
      ]
    },
    {
      "cell_type": "code",
      "execution_count": null,
      "id": "d9xCof1CMwwh",
      "metadata": {
        "id": "d9xCof1CMwwh"
      },
      "outputs": [],
      "source": [
        "x_test = []\n",
        "y_test = []\n",
        "for i in range(100, input_data.shape[0]):\n",
        "   x_test.append(input_data[i-100: i])\n",
        "   y_test.append(input_data[i, 0])"
      ]
    },
    {
      "cell_type": "code",
      "execution_count": null,
      "id": "6MGDYZvrNUYc",
      "metadata": {
        "colab": {
          "base_uri": "https://localhost:8080/"
        },
        "id": "6MGDYZvrNUYc",
        "outputId": "edc06c42-97d9-49ab-db6f-4054bcf10f9a"
      },
      "outputs": [
        {
          "name": "stdout",
          "output_type": "stream",
          "text": [
            "(57, 100, 1)\n",
            "(57,)\n"
          ]
        }
      ],
      "source": [
        "x_test, y_test = np.array(x_test), np.array(y_test)\n",
        "print(x_test.shape)\n",
        "print(y_test.shape)"
      ]
    },
    {
      "cell_type": "markdown",
      "id": "PjvHSsrYpFBG",
      "metadata": {
        "id": "PjvHSsrYpFBG"
      },
      "source": [
        "# Making prediction and plotting the graph of predicted vs actual values\n",
        "\n",
        "---\n",
        "\n"
      ]
    },
    {
      "cell_type": "code",
      "execution_count": null,
      "id": "GLMExu7NNdmA",
      "metadata": {
        "colab": {
          "base_uri": "https://localhost:8080/"
        },
        "id": "GLMExu7NNdmA",
        "outputId": "8038aa60-ecfb-4222-e8ad-edfc8f6c24a1"
      },
      "outputs": [
        {
          "name": "stdout",
          "output_type": "stream",
          "text": [
            "20/20 [==============================] - 2s 64ms/step\n"
          ]
        }
      ],
      "source": [
        "# Making predictions\n",
        "\n",
        "y_pred = model.predict(x_test)"
      ]
    },
    {
      "cell_type": "code",
      "execution_count": null,
      "id": "wAmVS__yNu-A",
      "metadata": {
        "colab": {
          "base_uri": "https://localhost:8080/"
        },
        "id": "wAmVS__yNu-A",
        "outputId": "0bccada4-46f7-4a77-8eb9-6b46fcab85f8"
      },
      "outputs": [
        {
          "data": {
            "text/plain": [
              "(627, 1)"
            ]
          },
          "execution_count": 66,
          "metadata": {},
          "output_type": "execute_result"
        }
      ],
      "source": [
        "y_pred.shape"
      ]
    },
    {
      "cell_type": "code",
      "execution_count": null,
      "id": "HFhTH-1aNyqt",
      "metadata": {
        "colab": {
          "base_uri": "https://localhost:8080/"
        },
        "id": "HFhTH-1aNyqt",
        "outputId": "28aac7e4-150f-4898-e81c-abf243c9b01c"
      },
      "outputs": [
        {
          "data": {
            "text/plain": [
              "array([0.33974171, 0.33984032, 0.35512175, 0.30188305, 0.34250222,\n",
              "       0.27881298, 0.27792563, 0.29439025, 0.33885436, 0.37907917,\n",
              "       0.37572714, 0.35236124, 0.3489106 , 0.3836143 , 0.38085379,\n",
              "       0.38134677, 0.39160016, 0.38262842, 0.36922015, 0.37523415,\n",
              "       0.3624174 , 0.32800946, 0.34102335, 0.34950211, 0.35502314,\n",
              "       0.37927639, 0.41545896, 0.41900821, 0.41762796, 0.41082521,\n",
              "       0.42561374, 0.43182489, 0.40619146, 0.42058562, 0.41240269,\n",
              "       0.40619146, 0.46633145, 0.46564132, 0.47441584, 0.45430351,\n",
              "       0.46978209, 0.50576759, 0.49669731, 0.50665487, 0.55318944,\n",
              "       0.53524595, 0.52390815, 0.51375337, 0.48141581, 0.49719014,\n",
              "       0.45371192, 0.49630287, 0.50744361, 0.47717635, 0.4754018 ,\n",
              "       0.49600711, 0.4764863 , 0.4590358 , 0.46583854, 0.50724638,\n",
              "       0.55496399, 0.57665395, 0.61461107, 0.61697729, 0.60613231,\n",
              "       0.55713298, 0.50655633, 0.52804891, 0.53642914, 0.52607714,\n",
              "       0.56009072, 0.55387949, 0.55535843, 0.54648523, 0.54037269,\n",
              "       0.5378094 , 0.54017546, 0.51868288, 0.49551413, 0.48437354,\n",
              "       0.48595087, 0.44779652, 0.44641627, 0.44138815, 0.39840283,\n",
              "       0.40106481, 0.46544417, 0.43912062, 0.40895197, 0.38992407,\n",
              "       0.40264221, 0.35275561, 0.39938872, 0.38844528, 0.40796609,\n",
              "       0.3987972 , 0.42797988, 0.44355714, 0.43557136, 0.39386769,\n",
              "       0.38854381, 0.42206448, 0.41368434, 0.3895297 , 0.39445921,\n",
              "       0.40057182, 0.40234645, 0.38765654, 0.40983932, 0.41821947,\n",
              "       0.44681064, 0.44986691, 0.46652867, 0.49078184, 0.51680964,\n",
              "       0.49945783, 0.53090796, 0.50724638, 0.53159817, 0.52824614,\n",
              "       0.5349502 , 0.51789414, 0.52173915, 0.50635911, 0.52982362,\n",
              "       0.53376716, 0.53051367, 0.52252789, 0.52154193, 0.50162682,\n",
              "       0.51227443, 0.46603569, 0.46850052, 0.4846693 , 0.48930305,\n",
              "       0.45617667, 0.44690925, 0.41595187, 0.43764175, 0.46209207,\n",
              "       0.45045843, 0.43645864, 0.43488124, 0.46071181, 0.44217689,\n",
              "       0.45864143, 0.45666965, 0.45617667, 0.44069802, 0.4340925 ,\n",
              "       0.430839  , 0.43852902, 0.42354335, 0.44671203, 0.44681064,\n",
              "       0.45509218, 0.45893719, 0.44888102, 0.46110618, 0.49196488,\n",
              "       0.48368334, 0.48871138, 0.50488017, 0.49176781, 0.50990836,\n",
              "       0.52647144, 0.52371092, 0.52085187, 0.51789414, 0.53435868,\n",
              "       0.54964019, 0.55585141, 0.55890769, 0.58542846, 0.60573802,\n",
              "       0.63087854, 0.61776603, 0.63620234, 0.63018833, 0.64142761,\n",
              "       0.6760327 , 0.66942718, 0.64882187, 0.60997732, 0.64645565,\n",
              "       0.63906139, 0.6528641 , 0.67021592, 0.67445537, 0.65256834,\n",
              "       0.63492062, 0.64142761, 0.6435966 , 0.64024457, 0.65838513,\n",
              "       0.6543429 , 0.65542739, 0.64635712, 0.64586414, 0.64103331,\n",
              "       0.6435966 , 0.67346941, 0.67553987, 0.69545498, 0.68628616,\n",
              "       0.64852611, 0.65187814, 0.66656813, 0.68155388, 0.68066645,\n",
              "       0.66824415, 0.66015968, 0.67061036, 0.71517301, 0.70245495,\n",
              "       0.709159  , 0.72039828, 0.72680673, 0.75036977, 0.73479251,\n",
              "       0.7245392 , 0.67425815, 0.6799764 , 0.66587793, 0.67484967,\n",
              "       0.67248345, 0.64556838, 0.61480829, 0.61963911, 0.64349807,\n",
              "       0.65315986, 0.65404714, 0.63876563, 0.60465352, 0.61372379,\n",
              "       0.60061128, 0.61194909, 0.577344  , 0.59676627, 0.60554079,\n",
              "       0.61825886, 0.61441385, 0.61352657, 0.60070982, 0.5947945 ,\n",
              "       0.62289261, 0.63354036, 0.65039935, 0.67218769, 0.6771172 ,\n",
              "       0.6792862 , 0.67149764, 0.67100466, 0.67770887, 0.67307512,\n",
              "       0.70975067, 0.68244115, 0.67415962, 0.68461015, 0.69910292,\n",
              "       0.69387765, 0.69703246, 0.68875092, 0.69239871, 0.66390615,\n",
              "       0.66341317, 0.68431439, 0.68441293, 0.69427194, 0.71882095,\n",
              "       0.76200334, 0.78842558, 0.79305933, 0.79690434, 0.80212961,\n",
              "       0.75155281, 0.78536931, 0.83525591, 0.83003065, 0.82007294,\n",
              "       0.80114365, 0.83545314, 0.89322683, 0.93167709, 0.92655036,\n",
              "       0.97476094, 0.93818407, 0.92428282, 0.97328215, 0.90387459,\n",
              "       0.89283254, 0.87912851, 0.91107178, 0.93719811, 0.94350788,\n",
              "       0.98343692, 0.97318346, 0.97407089, 0.96243717, 0.95622609,\n",
              "       1.        , 0.9772257 , 0.93009961, 0.9013113 , 0.90298731,\n",
              "       0.90318453, 0.93167709, 0.93611361, 0.90318453, 0.91186052,\n",
              "       0.87962149, 0.84442473, 0.82746721, 0.80676336, 0.79897465,\n",
              "       0.7808341 , 0.77994682, 0.77531307, 0.88484676, 0.92871935,\n",
              "       0.92704334, 0.93916988, 0.91018435, 0.90515631, 0.89795927,\n",
              "       0.92921233, 0.94350788, 0.90249433, 0.86818499, 0.87055121,\n",
              "       0.90909985, 0.90673379, 0.87055121, 0.85497395, 0.82559412,\n",
              "       0.7836933 , 0.81001685, 0.83081939, 0.83348121, 0.81455192,\n",
              "       0.84767822, 0.84442473, 0.81425616, 0.77610181, 0.75776404,\n",
              "       0.81208716, 0.76841179, 0.73104603, 0.69052547, 0.73459529,\n",
              "       0.77896086, 0.78911564, 0.82224194, 0.83604465, 0.8699597 ,\n",
              "       0.88366372, 0.92171953, 0.92812783, 0.93680382, 0.96993012,\n",
              "       0.95819787, 0.92704334, 0.9240856 , 0.96480339, 0.93147986,\n",
              "       0.89963528, 0.90269155, 0.88248054, 0.83969244, 0.8585232 ,\n",
              "       0.88553681, 0.83515723, 0.83298838, 0.85595976, 0.85428374,\n",
              "       0.84629796, 0.80065067, 0.81139711, 0.75145427, 0.74918674,\n",
              "       0.81888991, 0.75983435, 0.76289077, 0.77787636, 0.84235442,\n",
              "       0.75115851, 0.75618656, 0.70472248, 0.72887704, 0.64990637,\n",
              "       0.61106182, 0.65592037, 0.64044165, 0.67692013, 0.59390723,\n",
              "       0.55969642, 0.56206249, 0.61648431, 0.58937201, 0.59094949,\n",
              "       0.62308983, 0.68086367, 0.67297643, 0.67169486, 0.6963424 ,\n",
              "       0.63886432, 0.64635712, 0.67169486, 0.6643006 , 0.61185056,\n",
              "       0.55752743, 0.50576759, 0.51444342, 0.54076698, 0.48782411,\n",
              "       0.50261263, 0.54510497, 0.53997839, 0.5687667 , 0.60218876,\n",
              "       0.60218876, 0.5605837 , 0.57823127, 0.5534852 , 0.57527354,\n",
              "       0.6012028 , 0.61461107, 0.64842758, 0.65523017, 0.63383612,\n",
              "       0.6435966 , 0.63994882, 0.66932864, 0.68608894, 0.65552608,\n",
              "       0.69427194, 0.71438427, 0.73715873, 0.72473627, 0.713497  ,\n",
              "       0.70018741, 0.75135558, 0.75687676, 0.80774917, 0.79789016,\n",
              "       0.78310163, 0.84343892, 0.84028396, 0.83574889, 0.83101646,\n",
              "       0.83150944, 0.87410046, 0.8667062 , 0.90229726, 0.91304355,\n",
              "       0.91146607, 0.92645182, 0.92250812, 0.89657901, 0.85763592,\n",
              "       0.85428374, 0.85724148, 0.88188902, 0.81869269, 0.79660859,\n",
              "       0.7722568 , 0.75559504, 0.76289077, 0.74169379, 0.72907426,\n",
              "       0.74317273, 0.72838421, 0.75707383, 0.81681945, 0.72227152,\n",
              "       0.73676428, 0.70777875, 0.69131421, 0.72858128, 0.75244008,\n",
              "       0.72108848, 0.71142669, 0.68865223, 0.69200441, 0.70176474,\n",
              "       0.68283545, 0.61027308, 0.5680765 , 0.60997732, 0.64596282,\n",
              "       0.64892041, 0.63935715, 0.58671003, 0.58996353, 0.57576652,\n",
              "       0.56945676, 0.61530127, 0.5698512 , 0.60958303, 0.62279407,\n",
              "       0.62387857, 0.61924482, 0.65749785, 0.67899044, 0.70748299,\n",
              "       0.67800463, 0.63314607, 0.74100374, 0.71734201, 0.69082123,\n",
              "       0.6354136 , 0.57478071, 0.5698512 , 0.575175  , 0.58089325,\n",
              "       0.53524595, 0.65355416, 0.68145519, 0.66745541, 0.68480722,\n",
              "       0.67248345, 0.69151143, 0.69713099, 0.66479343, 0.68618748,\n",
              "       0.69496215, 0.66577939, 0.62742782, 0.59735779, 0.66499065,\n",
              "       0.66775116, 0.66282166, 0.65118809, 0.61451253, 0.59509026,\n",
              "       0.61194909, 0.60711827, 0.6300898 , 0.63975159, 0.61747027,\n",
              "       0.5513162 , 0.5316967 , 0.51059841, 0.50990836, 0.5409642 ,\n",
              "       0.50921816, 0.50557037, 0.48752835, 0.44819089, 0.48338758,\n",
              "       0.48654239, 0.43862764, 0.45134578, 0.43813465, 0.48348612,\n",
              "       0.48871138, 0.49442963, 0.52164061, 0.52085187, 0.53416146,\n",
              "       0.54579518, 0.53859813, 0.53918965, 0.56482301, 0.59676627,\n",
              "       0.61076606, 0.60416054, 0.62486453, 0.64428666, 0.61539981,\n",
              "       0.62811787, 0.63935715, 0.69249739, 0.7287785 , 0.70146898,\n",
              "       0.73025729, 0.70334222, 0.69299022, 0.69437048, 0.7223702 ,\n",
              "       0.71596175, 0.7369615 , 0.72098995, 0.70955345, 0.66942718,\n",
              "       0.67366663, 0.67849746, 0.65197683, 0.66390615, 0.65887811,\n",
              "       0.63817411, 0.64408958, 0.6945677 , 0.72217298, 0.70018741,\n",
              "       0.71270826, 0.69022971, 0.6696244 , 0.68904668, 0.70994774,\n",
              "       0.71389144, 0.74208824, 0.73370801, 0.75736959, 0.77590459,\n",
              "       0.76160905, 0.77245387, 0.78546785, 0.76604557, 0.75983435,\n",
              "       0.79059458, 0.80627038, 0.83131222, 0.84383321, 0.83850941,\n",
              "       0.82007294, 0.82894615, 0.80301689, 0.79089034, 0.78398906,\n",
              "       0.8378192 , 0.83436864, 0.83456571, 0.84679095, 0.85822744,\n",
              "       0.8485655 , 0.8324954 ])"
            ]
          },
          "execution_count": 67,
          "metadata": {},
          "output_type": "execute_result"
        }
      ],
      "source": [
        "y_test"
      ]
    },
    {
      "cell_type": "code",
      "execution_count": null,
      "id": "WDIHSvbHN1vk",
      "metadata": {
        "id": "WDIHSvbHN1vk"
      },
      "outputs": [],
      "source": [
        "y_pred"
      ]
    },
    {
      "cell_type": "code",
      "execution_count": null,
      "id": "QMFgAgL5N6HX",
      "metadata": {
        "colab": {
          "base_uri": "https://localhost:8080/"
        },
        "id": "QMFgAgL5N6HX",
        "outputId": "0f80a24c-a3bb-4ea1-8566-e0ac9f6a7c16"
      },
      "outputs": [
        {
          "data": {
            "text/plain": [
              "array([0.00985902])"
            ]
          },
          "execution_count": 69,
          "metadata": {},
          "output_type": "execute_result"
        }
      ],
      "source": [
        "scaler.scale_"
      ]
    },
    {
      "cell_type": "code",
      "execution_count": null,
      "id": "tPcp9BKLN-Y8",
      "metadata": {
        "id": "tPcp9BKLN-Y8"
      },
      "outputs": [],
      "source": [
        "scale_factor = 1/0.00985902\n",
        "y_pred = y_pred * scale_factor\n",
        "y_test = y_test * scale_factor"
      ]
    },
    {
      "cell_type": "code",
      "execution_count": null,
      "id": "phumyMZUOPp_",
      "metadata": {
        "colab": {
          "base_uri": "https://localhost:8080/",
          "height": 542
        },
        "id": "phumyMZUOPp_",
        "outputId": "97c097f5-425b-4b78-c16e-83c45eb6514b"
      },
      "outputs": [
        {
          "data": {
            "image/png": "[encoded data removed]",
            "text/plain": [
              "<Figure size 1200x600 with 1 Axes>"
            ]
          },
          "metadata": {},
          "output_type": "display_data"
        }
      ],
      "source": [
        "plt.figure(figsize = (12,6))\n",
        "plt.plot(y_test, 'b', label = \"Original Price\")\n",
        "plt.plot(y_pred, 'r', label = \"Predicted Price\")\n",
        "plt.xlabel('Time')\n",
        "plt.ylabel('Price')\n",
        "plt.legend()\n",
        "plt.show()"
      ]
    },
    {
      "cell_type": "markdown",
      "id": "m54ljCJrpShP",
      "metadata": {
        "id": "m54ljCJrpShP"
      },
      "source": [
        "# Model evaluation"
      ]
    },
    {
      "cell_type": "code",
      "execution_count": null,
      "id": "Yx6JWOKcX3Yo",
      "metadata": {
        "colab": {
          "base_uri": "https://localhost:8080/"
        },
        "id": "Yx6JWOKcX3Yo",
        "outputId": "60556eef-f2e1-45f6-c9f1-533107e2070a"
      },
      "outputs": [
        {
          "name": "stdout",
          "output_type": "stream",
          "text": [
            "Mean absolute error on test set:  4.542532119013522\n"
          ]
        }
      ],
      "source": [
        "from sklearn.metrics import mean_absolute_error\n",
        "mae = mean_absolute_error(y_test, y_pred)\n",
        "print(\"Mean absolute error on test set: \", mae)"
      ]
    }
  ],
  "metadata": {
    "accelerator": "GPU",
    "colab": {
      "include_colab_link": true,
      "provenance": []
    },
    "gpuClass": "standard",
    "kernelspec": {
      "display_name": ".venv",
      "language": "python",
      "name": "python3"
    },
    "language_info": {
      "codemirror_mode": {
        "name": "ipython",
        "version": 3
      },
      "file_extension": ".py",
      "mimetype": "text/x-python",
      "name": "python",
      "nbconvert_exporter": "python",
      "pygments_lexer": "ipython3",
      "version": "3.12.3"
    }
  },
  "nbformat": 4,
  "nbformat_minor": 5
}
